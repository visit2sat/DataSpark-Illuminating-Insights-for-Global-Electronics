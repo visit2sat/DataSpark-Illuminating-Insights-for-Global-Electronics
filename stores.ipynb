{
 "cells": [
  {
   "cell_type": "code",
   "execution_count": 40,
   "id": "42a88cca-c964-484b-9b03-7d40ba627639",
   "metadata": {},
   "outputs": [
    {
     "data": {
      "text/html": [
       "<div>\n",
       "<style scoped>\n",
       "    .dataframe tbody tr th:only-of-type {\n",
       "        vertical-align: middle;\n",
       "    }\n",
       "\n",
       "    .dataframe tbody tr th {\n",
       "        vertical-align: top;\n",
       "    }\n",
       "\n",
       "    .dataframe thead th {\n",
       "        text-align: right;\n",
       "    }\n",
       "</style>\n",
       "<table border=\"1\" class=\"dataframe\">\n",
       "  <thead>\n",
       "    <tr style=\"text-align: right;\">\n",
       "      <th></th>\n",
       "      <th>StoreKey</th>\n",
       "      <th>Country</th>\n",
       "      <th>State</th>\n",
       "      <th>Square Meters</th>\n",
       "      <th>Open Date</th>\n",
       "    </tr>\n",
       "  </thead>\n",
       "  <tbody>\n",
       "    <tr>\n",
       "      <th>0</th>\n",
       "      <td>1</td>\n",
       "      <td>Australia</td>\n",
       "      <td>Australian Capital Territory</td>\n",
       "      <td>595.0</td>\n",
       "      <td>1/1/2008</td>\n",
       "    </tr>\n",
       "    <tr>\n",
       "      <th>1</th>\n",
       "      <td>2</td>\n",
       "      <td>Australia</td>\n",
       "      <td>Northern Territory</td>\n",
       "      <td>665.0</td>\n",
       "      <td>1/12/2008</td>\n",
       "    </tr>\n",
       "    <tr>\n",
       "      <th>2</th>\n",
       "      <td>3</td>\n",
       "      <td>Australia</td>\n",
       "      <td>South Australia</td>\n",
       "      <td>2000.0</td>\n",
       "      <td>1/7/2012</td>\n",
       "    </tr>\n",
       "    <tr>\n",
       "      <th>3</th>\n",
       "      <td>4</td>\n",
       "      <td>Australia</td>\n",
       "      <td>Tasmania</td>\n",
       "      <td>2000.0</td>\n",
       "      <td>1/1/2010</td>\n",
       "    </tr>\n",
       "    <tr>\n",
       "      <th>4</th>\n",
       "      <td>5</td>\n",
       "      <td>Australia</td>\n",
       "      <td>Victoria</td>\n",
       "      <td>2000.0</td>\n",
       "      <td>12/9/2015</td>\n",
       "    </tr>\n",
       "    <tr>\n",
       "      <th>...</th>\n",
       "      <td>...</td>\n",
       "      <td>...</td>\n",
       "      <td>...</td>\n",
       "      <td>...</td>\n",
       "      <td>...</td>\n",
       "    </tr>\n",
       "    <tr>\n",
       "      <th>62</th>\n",
       "      <td>63</td>\n",
       "      <td>United States</td>\n",
       "      <td>Utah</td>\n",
       "      <td>2000.0</td>\n",
       "      <td>3/6/2008</td>\n",
       "    </tr>\n",
       "    <tr>\n",
       "      <th>63</th>\n",
       "      <td>64</td>\n",
       "      <td>United States</td>\n",
       "      <td>Washington DC</td>\n",
       "      <td>1330.0</td>\n",
       "      <td>1/1/2010</td>\n",
       "    </tr>\n",
       "    <tr>\n",
       "      <th>64</th>\n",
       "      <td>65</td>\n",
       "      <td>United States</td>\n",
       "      <td>West Virginia</td>\n",
       "      <td>1785.0</td>\n",
       "      <td>1/1/2012</td>\n",
       "    </tr>\n",
       "    <tr>\n",
       "      <th>65</th>\n",
       "      <td>66</td>\n",
       "      <td>United States</td>\n",
       "      <td>Wyoming</td>\n",
       "      <td>840.0</td>\n",
       "      <td>1/1/2014</td>\n",
       "    </tr>\n",
       "    <tr>\n",
       "      <th>66</th>\n",
       "      <td>0</td>\n",
       "      <td>Online</td>\n",
       "      <td>Online</td>\n",
       "      <td>NaN</td>\n",
       "      <td>1/1/2010</td>\n",
       "    </tr>\n",
       "  </tbody>\n",
       "</table>\n",
       "<p>67 rows × 5 columns</p>\n",
       "</div>"
      ],
      "text/plain": [
       "    StoreKey        Country                         State  Square Meters  \\\n",
       "0          1      Australia  Australian Capital Territory          595.0   \n",
       "1          2      Australia            Northern Territory          665.0   \n",
       "2          3      Australia               South Australia         2000.0   \n",
       "3          4      Australia                      Tasmania         2000.0   \n",
       "4          5      Australia                      Victoria         2000.0   \n",
       "..       ...            ...                           ...            ...   \n",
       "62        63  United States                          Utah         2000.0   \n",
       "63        64  United States                 Washington DC         1330.0   \n",
       "64        65  United States                 West Virginia         1785.0   \n",
       "65        66  United States                       Wyoming          840.0   \n",
       "66         0         Online                        Online            NaN   \n",
       "\n",
       "    Open Date  \n",
       "0    1/1/2008  \n",
       "1   1/12/2008  \n",
       "2    1/7/2012  \n",
       "3    1/1/2010  \n",
       "4   12/9/2015  \n",
       "..        ...  \n",
       "62   3/6/2008  \n",
       "63   1/1/2010  \n",
       "64   1/1/2012  \n",
       "65   1/1/2014  \n",
       "66   1/1/2010  \n",
       "\n",
       "[67 rows x 5 columns]"
      ]
     },
     "execution_count": 40,
     "metadata": {},
     "output_type": "execute_result"
    }
   ],
   "source": [
    "import pandas as pd\n",
    "df=pd.read_csv(\"Stores.csv\")\n",
    "df"
   ]
  },
  {
   "cell_type": "markdown",
   "id": "00dc59ce-89cf-4ed0-b899-886bae44e860",
   "metadata": {},
   "source": [
    "**Null imputation**"
   ]
  },
  {
   "cell_type": "code",
   "execution_count": 41,
   "id": "20cc3750-a8f3-4e9f-b02a-8e5d96488a16",
   "metadata": {},
   "outputs": [
    {
     "data": {
      "text/html": [
       "<div>\n",
       "<style scoped>\n",
       "    .dataframe tbody tr th:only-of-type {\n",
       "        vertical-align: middle;\n",
       "    }\n",
       "\n",
       "    .dataframe tbody tr th {\n",
       "        vertical-align: top;\n",
       "    }\n",
       "\n",
       "    .dataframe thead th {\n",
       "        text-align: right;\n",
       "    }\n",
       "</style>\n",
       "<table border=\"1\" class=\"dataframe\">\n",
       "  <thead>\n",
       "    <tr style=\"text-align: right;\">\n",
       "      <th></th>\n",
       "      <th>StoreKey</th>\n",
       "      <th>Country</th>\n",
       "      <th>State</th>\n",
       "      <th>Square Meters</th>\n",
       "      <th>Open Date</th>\n",
       "    </tr>\n",
       "  </thead>\n",
       "  <tbody>\n",
       "    <tr>\n",
       "      <th>0</th>\n",
       "      <td>1</td>\n",
       "      <td>Australia</td>\n",
       "      <td>Australian Capital Territory</td>\n",
       "      <td>595.0</td>\n",
       "      <td>1/1/2008</td>\n",
       "    </tr>\n",
       "    <tr>\n",
       "      <th>1</th>\n",
       "      <td>2</td>\n",
       "      <td>Australia</td>\n",
       "      <td>Northern Territory</td>\n",
       "      <td>665.0</td>\n",
       "      <td>1/12/2008</td>\n",
       "    </tr>\n",
       "    <tr>\n",
       "      <th>2</th>\n",
       "      <td>3</td>\n",
       "      <td>Australia</td>\n",
       "      <td>South Australia</td>\n",
       "      <td>2000.0</td>\n",
       "      <td>1/7/2012</td>\n",
       "    </tr>\n",
       "    <tr>\n",
       "      <th>3</th>\n",
       "      <td>4</td>\n",
       "      <td>Australia</td>\n",
       "      <td>Tasmania</td>\n",
       "      <td>2000.0</td>\n",
       "      <td>1/1/2010</td>\n",
       "    </tr>\n",
       "    <tr>\n",
       "      <th>4</th>\n",
       "      <td>5</td>\n",
       "      <td>Australia</td>\n",
       "      <td>Victoria</td>\n",
       "      <td>2000.0</td>\n",
       "      <td>12/9/2015</td>\n",
       "    </tr>\n",
       "    <tr>\n",
       "      <th>...</th>\n",
       "      <td>...</td>\n",
       "      <td>...</td>\n",
       "      <td>...</td>\n",
       "      <td>...</td>\n",
       "      <td>...</td>\n",
       "    </tr>\n",
       "    <tr>\n",
       "      <th>61</th>\n",
       "      <td>62</td>\n",
       "      <td>United States</td>\n",
       "      <td>South Dakota</td>\n",
       "      <td>1120.0</td>\n",
       "      <td>6/3/2018</td>\n",
       "    </tr>\n",
       "    <tr>\n",
       "      <th>62</th>\n",
       "      <td>63</td>\n",
       "      <td>United States</td>\n",
       "      <td>Utah</td>\n",
       "      <td>2000.0</td>\n",
       "      <td>3/6/2008</td>\n",
       "    </tr>\n",
       "    <tr>\n",
       "      <th>63</th>\n",
       "      <td>64</td>\n",
       "      <td>United States</td>\n",
       "      <td>Washington DC</td>\n",
       "      <td>1330.0</td>\n",
       "      <td>1/1/2010</td>\n",
       "    </tr>\n",
       "    <tr>\n",
       "      <th>64</th>\n",
       "      <td>65</td>\n",
       "      <td>United States</td>\n",
       "      <td>West Virginia</td>\n",
       "      <td>1785.0</td>\n",
       "      <td>1/1/2012</td>\n",
       "    </tr>\n",
       "    <tr>\n",
       "      <th>65</th>\n",
       "      <td>66</td>\n",
       "      <td>United States</td>\n",
       "      <td>Wyoming</td>\n",
       "      <td>840.0</td>\n",
       "      <td>1/1/2014</td>\n",
       "    </tr>\n",
       "  </tbody>\n",
       "</table>\n",
       "<p>66 rows × 5 columns</p>\n",
       "</div>"
      ],
      "text/plain": [
       "    StoreKey        Country                         State  Square Meters  \\\n",
       "0          1      Australia  Australian Capital Territory          595.0   \n",
       "1          2      Australia            Northern Territory          665.0   \n",
       "2          3      Australia               South Australia         2000.0   \n",
       "3          4      Australia                      Tasmania         2000.0   \n",
       "4          5      Australia                      Victoria         2000.0   \n",
       "..       ...            ...                           ...            ...   \n",
       "61        62  United States                  South Dakota         1120.0   \n",
       "62        63  United States                          Utah         2000.0   \n",
       "63        64  United States                 Washington DC         1330.0   \n",
       "64        65  United States                 West Virginia         1785.0   \n",
       "65        66  United States                       Wyoming          840.0   \n",
       "\n",
       "    Open Date  \n",
       "0    1/1/2008  \n",
       "1   1/12/2008  \n",
       "2    1/7/2012  \n",
       "3    1/1/2010  \n",
       "4   12/9/2015  \n",
       "..        ...  \n",
       "61   6/3/2018  \n",
       "62   3/6/2008  \n",
       "63   1/1/2010  \n",
       "64   1/1/2012  \n",
       "65   1/1/2014  \n",
       "\n",
       "[66 rows x 5 columns]"
      ]
     },
     "execution_count": 41,
     "metadata": {},
     "output_type": "execute_result"
    }
   ],
   "source": [
    "df=df.dropna()\n",
    "df"
   ]
  },
  {
   "cell_type": "code",
   "execution_count": 42,
   "id": "6bb3d831-8394-44af-9bf9-81e25b23ae60",
   "metadata": {},
   "outputs": [
    {
     "name": "stdout",
     "output_type": "stream",
     "text": [
      "<class 'pandas.core.frame.DataFrame'>\n",
      "Index: 66 entries, 0 to 65\n",
      "Data columns (total 5 columns):\n",
      " #   Column         Non-Null Count  Dtype  \n",
      "---  ------         --------------  -----  \n",
      " 0   StoreKey       66 non-null     int64  \n",
      " 1   Country        66 non-null     object \n",
      " 2   State          66 non-null     object \n",
      " 3   Square Meters  66 non-null     float64\n",
      " 4   Open Date      66 non-null     object \n",
      "dtypes: float64(1), int64(1), object(3)\n",
      "memory usage: 3.1+ KB\n"
     ]
    }
   ],
   "source": [
    "df.info()"
   ]
  },
  {
   "cell_type": "markdown",
   "id": "5f3e968d-83ad-4359-9c22-3c5301e1bc7f",
   "metadata": {},
   "source": [
    "**Changed Dtype**"
   ]
  },
  {
   "cell_type": "code",
   "execution_count": 43,
   "id": "1feb1604-346a-480d-97fd-88b1f4bd8cee",
   "metadata": {},
   "outputs": [
    {
     "name": "stderr",
     "output_type": "stream",
     "text": [
      "C:\\Users\\User\\AppData\\Local\\Temp\\ipykernel_25392\\1414457793.py:1: SettingWithCopyWarning:\n",
      "\n",
      "\n",
      "A value is trying to be set on a copy of a slice from a DataFrame.\n",
      "Try using .loc[row_indexer,col_indexer] = value instead\n",
      "\n",
      "See the caveats in the documentation: https://pandas.pydata.org/pandas-docs/stable/user_guide/indexing.html#returning-a-view-versus-a-copy\n",
      "\n"
     ]
    },
    {
     "data": {
      "text/html": [
       "<div>\n",
       "<style scoped>\n",
       "    .dataframe tbody tr th:only-of-type {\n",
       "        vertical-align: middle;\n",
       "    }\n",
       "\n",
       "    .dataframe tbody tr th {\n",
       "        vertical-align: top;\n",
       "    }\n",
       "\n",
       "    .dataframe thead th {\n",
       "        text-align: right;\n",
       "    }\n",
       "</style>\n",
       "<table border=\"1\" class=\"dataframe\">\n",
       "  <thead>\n",
       "    <tr style=\"text-align: right;\">\n",
       "      <th></th>\n",
       "      <th>StoreKey</th>\n",
       "      <th>Country</th>\n",
       "      <th>State</th>\n",
       "      <th>Square Meters</th>\n",
       "      <th>Open Date</th>\n",
       "    </tr>\n",
       "  </thead>\n",
       "  <tbody>\n",
       "    <tr>\n",
       "      <th>0</th>\n",
       "      <td>1</td>\n",
       "      <td>Australia</td>\n",
       "      <td>Australian Capital Territory</td>\n",
       "      <td>595.0</td>\n",
       "      <td>2008-01-01</td>\n",
       "    </tr>\n",
       "    <tr>\n",
       "      <th>1</th>\n",
       "      <td>2</td>\n",
       "      <td>Australia</td>\n",
       "      <td>Northern Territory</td>\n",
       "      <td>665.0</td>\n",
       "      <td>2008-01-12</td>\n",
       "    </tr>\n",
       "    <tr>\n",
       "      <th>2</th>\n",
       "      <td>3</td>\n",
       "      <td>Australia</td>\n",
       "      <td>South Australia</td>\n",
       "      <td>2000.0</td>\n",
       "      <td>2012-01-07</td>\n",
       "    </tr>\n",
       "    <tr>\n",
       "      <th>3</th>\n",
       "      <td>4</td>\n",
       "      <td>Australia</td>\n",
       "      <td>Tasmania</td>\n",
       "      <td>2000.0</td>\n",
       "      <td>2010-01-01</td>\n",
       "    </tr>\n",
       "    <tr>\n",
       "      <th>4</th>\n",
       "      <td>5</td>\n",
       "      <td>Australia</td>\n",
       "      <td>Victoria</td>\n",
       "      <td>2000.0</td>\n",
       "      <td>2015-12-09</td>\n",
       "    </tr>\n",
       "    <tr>\n",
       "      <th>...</th>\n",
       "      <td>...</td>\n",
       "      <td>...</td>\n",
       "      <td>...</td>\n",
       "      <td>...</td>\n",
       "      <td>...</td>\n",
       "    </tr>\n",
       "    <tr>\n",
       "      <th>61</th>\n",
       "      <td>62</td>\n",
       "      <td>United States</td>\n",
       "      <td>South Dakota</td>\n",
       "      <td>1120.0</td>\n",
       "      <td>2018-06-03</td>\n",
       "    </tr>\n",
       "    <tr>\n",
       "      <th>62</th>\n",
       "      <td>63</td>\n",
       "      <td>United States</td>\n",
       "      <td>Utah</td>\n",
       "      <td>2000.0</td>\n",
       "      <td>2008-03-06</td>\n",
       "    </tr>\n",
       "    <tr>\n",
       "      <th>63</th>\n",
       "      <td>64</td>\n",
       "      <td>United States</td>\n",
       "      <td>Washington DC</td>\n",
       "      <td>1330.0</td>\n",
       "      <td>2010-01-01</td>\n",
       "    </tr>\n",
       "    <tr>\n",
       "      <th>64</th>\n",
       "      <td>65</td>\n",
       "      <td>United States</td>\n",
       "      <td>West Virginia</td>\n",
       "      <td>1785.0</td>\n",
       "      <td>2012-01-01</td>\n",
       "    </tr>\n",
       "    <tr>\n",
       "      <th>65</th>\n",
       "      <td>66</td>\n",
       "      <td>United States</td>\n",
       "      <td>Wyoming</td>\n",
       "      <td>840.0</td>\n",
       "      <td>2014-01-01</td>\n",
       "    </tr>\n",
       "  </tbody>\n",
       "</table>\n",
       "<p>66 rows × 5 columns</p>\n",
       "</div>"
      ],
      "text/plain": [
       "    StoreKey        Country                         State  Square Meters  \\\n",
       "0          1      Australia  Australian Capital Territory          595.0   \n",
       "1          2      Australia            Northern Territory          665.0   \n",
       "2          3      Australia               South Australia         2000.0   \n",
       "3          4      Australia                      Tasmania         2000.0   \n",
       "4          5      Australia                      Victoria         2000.0   \n",
       "..       ...            ...                           ...            ...   \n",
       "61        62  United States                  South Dakota         1120.0   \n",
       "62        63  United States                          Utah         2000.0   \n",
       "63        64  United States                 Washington DC         1330.0   \n",
       "64        65  United States                 West Virginia         1785.0   \n",
       "65        66  United States                       Wyoming          840.0   \n",
       "\n",
       "    Open Date  \n",
       "0  2008-01-01  \n",
       "1  2008-01-12  \n",
       "2  2012-01-07  \n",
       "3  2010-01-01  \n",
       "4  2015-12-09  \n",
       "..        ...  \n",
       "61 2018-06-03  \n",
       "62 2008-03-06  \n",
       "63 2010-01-01  \n",
       "64 2012-01-01  \n",
       "65 2014-01-01  \n",
       "\n",
       "[66 rows x 5 columns]"
      ]
     },
     "execution_count": 43,
     "metadata": {},
     "output_type": "execute_result"
    }
   ],
   "source": [
    "df['Open Date']= pd.to_datetime(df['Open Date'])\n",
    "df"
   ]
  },
  {
   "cell_type": "code",
   "execution_count": 44,
   "id": "bb599252-5eb3-4f96-bea7-80b5e8734a5e",
   "metadata": {},
   "outputs": [
    {
     "data": {
      "text/html": [
       "<div>\n",
       "<style scoped>\n",
       "    .dataframe tbody tr th:only-of-type {\n",
       "        vertical-align: middle;\n",
       "    }\n",
       "\n",
       "    .dataframe tbody tr th {\n",
       "        vertical-align: top;\n",
       "    }\n",
       "\n",
       "    .dataframe thead th {\n",
       "        text-align: right;\n",
       "    }\n",
       "</style>\n",
       "<table border=\"1\" class=\"dataframe\">\n",
       "  <thead>\n",
       "    <tr style=\"text-align: right;\">\n",
       "      <th></th>\n",
       "      <th>StoreKey</th>\n",
       "      <th>Square Meters</th>\n",
       "    </tr>\n",
       "  </thead>\n",
       "  <tbody>\n",
       "    <tr>\n",
       "      <th>0</th>\n",
       "      <td>1</td>\n",
       "      <td>595.0</td>\n",
       "    </tr>\n",
       "    <tr>\n",
       "      <th>1</th>\n",
       "      <td>2</td>\n",
       "      <td>665.0</td>\n",
       "    </tr>\n",
       "    <tr>\n",
       "      <th>2</th>\n",
       "      <td>3</td>\n",
       "      <td>2000.0</td>\n",
       "    </tr>\n",
       "    <tr>\n",
       "      <th>3</th>\n",
       "      <td>4</td>\n",
       "      <td>2000.0</td>\n",
       "    </tr>\n",
       "    <tr>\n",
       "      <th>4</th>\n",
       "      <td>5</td>\n",
       "      <td>2000.0</td>\n",
       "    </tr>\n",
       "    <tr>\n",
       "      <th>...</th>\n",
       "      <td>...</td>\n",
       "      <td>...</td>\n",
       "    </tr>\n",
       "    <tr>\n",
       "      <th>61</th>\n",
       "      <td>62</td>\n",
       "      <td>1120.0</td>\n",
       "    </tr>\n",
       "    <tr>\n",
       "      <th>62</th>\n",
       "      <td>63</td>\n",
       "      <td>2000.0</td>\n",
       "    </tr>\n",
       "    <tr>\n",
       "      <th>63</th>\n",
       "      <td>64</td>\n",
       "      <td>1330.0</td>\n",
       "    </tr>\n",
       "    <tr>\n",
       "      <th>64</th>\n",
       "      <td>65</td>\n",
       "      <td>1785.0</td>\n",
       "    </tr>\n",
       "    <tr>\n",
       "      <th>65</th>\n",
       "      <td>66</td>\n",
       "      <td>840.0</td>\n",
       "    </tr>\n",
       "  </tbody>\n",
       "</table>\n",
       "<p>66 rows × 2 columns</p>\n",
       "</div>"
      ],
      "text/plain": [
       "    StoreKey  Square Meters\n",
       "0          1          595.0\n",
       "1          2          665.0\n",
       "2          3         2000.0\n",
       "3          4         2000.0\n",
       "4          5         2000.0\n",
       "..       ...            ...\n",
       "61        62         1120.0\n",
       "62        63         2000.0\n",
       "63        64         1330.0\n",
       "64        65         1785.0\n",
       "65        66          840.0\n",
       "\n",
       "[66 rows x 2 columns]"
      ]
     },
     "execution_count": 44,
     "metadata": {},
     "output_type": "execute_result"
    }
   ],
   "source": [
    "df=df[['StoreKey','Square Meters']]\n",
    "df"
   ]
  },
  {
   "cell_type": "code",
   "execution_count": 45,
   "id": "28574409-b89e-44c9-a1a7-9ce57beddace",
   "metadata": {},
   "outputs": [
    {
     "data": {
      "text/plain": [
       "StoreKey         0\n",
       "Square Meters    0\n",
       "dtype: int64"
      ]
     },
     "execution_count": 45,
     "metadata": {},
     "output_type": "execute_result"
    }
   ],
   "source": [
    "df.isna().sum()"
   ]
  },
  {
   "cell_type": "markdown",
   "id": "ae969ad7-20e2-43ee-8742-37984f00ccc5",
   "metadata": {},
   "source": [
    "DISTRIBUTIONS"
   ]
  },
  {
   "cell_type": "code",
   "execution_count": 46,
   "id": "5059bec5-b370-4f67-b6ba-89b21dea09e4",
   "metadata": {},
   "outputs": [
    {
     "data": {
      "text/plain": [
       "<Axes: ylabel='Density'>"
      ]
     },
     "execution_count": 46,
     "metadata": {},
     "output_type": "execute_result"
    },
    {
     "data": {
      "image/png": "[encoded data removed]",
      "text/plain": [
       "<Figure size 640x480 with 1 Axes>"
      ]
     },
     "metadata": {},
     "output_type": "display_data"
    }
   ],
   "source": [
    "import seaborn as sns\n",
    "sns.kdeplot(df)"
   ]
  },
  {
   "cell_type": "code",
   "execution_count": 47,
   "id": "534e5651-80dd-4b31-9f24-5b6258db32cc",
   "metadata": {},
   "outputs": [
    {
     "data": {
      "text/html": [
       "<div>\n",
       "<style scoped>\n",
       "    .dataframe tbody tr th:only-of-type {\n",
       "        vertical-align: middle;\n",
       "    }\n",
       "\n",
       "    .dataframe tbody tr th {\n",
       "        vertical-align: top;\n",
       "    }\n",
       "\n",
       "    .dataframe thead th {\n",
       "        text-align: right;\n",
       "    }\n",
       "</style>\n",
       "<table border=\"1\" class=\"dataframe\">\n",
       "  <thead>\n",
       "    <tr style=\"text-align: right;\">\n",
       "      <th></th>\n",
       "      <th>StoreKey</th>\n",
       "      <th>Country</th>\n",
       "      <th>State</th>\n",
       "      <th>Square Meters</th>\n",
       "      <th>Open Date</th>\n",
       "    </tr>\n",
       "  </thead>\n",
       "  <tbody>\n",
       "    <tr>\n",
       "      <th>0</th>\n",
       "      <td>1</td>\n",
       "      <td>Australia</td>\n",
       "      <td>Australian Capital Territory</td>\n",
       "      <td>595.0</td>\n",
       "      <td>1/1/2008</td>\n",
       "    </tr>\n",
       "    <tr>\n",
       "      <th>1</th>\n",
       "      <td>2</td>\n",
       "      <td>Australia</td>\n",
       "      <td>Northern Territory</td>\n",
       "      <td>665.0</td>\n",
       "      <td>1/12/2008</td>\n",
       "    </tr>\n",
       "    <tr>\n",
       "      <th>2</th>\n",
       "      <td>3</td>\n",
       "      <td>Australia</td>\n",
       "      <td>South Australia</td>\n",
       "      <td>2000.0</td>\n",
       "      <td>1/7/2012</td>\n",
       "    </tr>\n",
       "    <tr>\n",
       "      <th>3</th>\n",
       "      <td>4</td>\n",
       "      <td>Australia</td>\n",
       "      <td>Tasmania</td>\n",
       "      <td>2000.0</td>\n",
       "      <td>1/1/2010</td>\n",
       "    </tr>\n",
       "    <tr>\n",
       "      <th>4</th>\n",
       "      <td>5</td>\n",
       "      <td>Australia</td>\n",
       "      <td>Victoria</td>\n",
       "      <td>2000.0</td>\n",
       "      <td>12/9/2015</td>\n",
       "    </tr>\n",
       "    <tr>\n",
       "      <th>...</th>\n",
       "      <td>...</td>\n",
       "      <td>...</td>\n",
       "      <td>...</td>\n",
       "      <td>...</td>\n",
       "      <td>...</td>\n",
       "    </tr>\n",
       "    <tr>\n",
       "      <th>62</th>\n",
       "      <td>63</td>\n",
       "      <td>United States</td>\n",
       "      <td>Utah</td>\n",
       "      <td>2000.0</td>\n",
       "      <td>3/6/2008</td>\n",
       "    </tr>\n",
       "    <tr>\n",
       "      <th>63</th>\n",
       "      <td>64</td>\n",
       "      <td>United States</td>\n",
       "      <td>Washington DC</td>\n",
       "      <td>1330.0</td>\n",
       "      <td>1/1/2010</td>\n",
       "    </tr>\n",
       "    <tr>\n",
       "      <th>64</th>\n",
       "      <td>65</td>\n",
       "      <td>United States</td>\n",
       "      <td>West Virginia</td>\n",
       "      <td>1785.0</td>\n",
       "      <td>1/1/2012</td>\n",
       "    </tr>\n",
       "    <tr>\n",
       "      <th>65</th>\n",
       "      <td>66</td>\n",
       "      <td>United States</td>\n",
       "      <td>Wyoming</td>\n",
       "      <td>840.0</td>\n",
       "      <td>1/1/2014</td>\n",
       "    </tr>\n",
       "    <tr>\n",
       "      <th>66</th>\n",
       "      <td>0</td>\n",
       "      <td>Online</td>\n",
       "      <td>Online</td>\n",
       "      <td>NaN</td>\n",
       "      <td>1/1/2010</td>\n",
       "    </tr>\n",
       "  </tbody>\n",
       "</table>\n",
       "<p>67 rows × 5 columns</p>\n",
       "</div>"
      ],
      "text/plain": [
       "    StoreKey        Country                         State  Square Meters  \\\n",
       "0          1      Australia  Australian Capital Territory          595.0   \n",
       "1          2      Australia            Northern Territory          665.0   \n",
       "2          3      Australia               South Australia         2000.0   \n",
       "3          4      Australia                      Tasmania         2000.0   \n",
       "4          5      Australia                      Victoria         2000.0   \n",
       "..       ...            ...                           ...            ...   \n",
       "62        63  United States                          Utah         2000.0   \n",
       "63        64  United States                 Washington DC         1330.0   \n",
       "64        65  United States                 West Virginia         1785.0   \n",
       "65        66  United States                       Wyoming          840.0   \n",
       "66         0         Online                        Online            NaN   \n",
       "\n",
       "    Open Date  \n",
       "0    1/1/2008  \n",
       "1   1/12/2008  \n",
       "2    1/7/2012  \n",
       "3    1/1/2010  \n",
       "4   12/9/2015  \n",
       "..        ...  \n",
       "62   3/6/2008  \n",
       "63   1/1/2010  \n",
       "64   1/1/2012  \n",
       "65   1/1/2014  \n",
       "66   1/1/2010  \n",
       "\n",
       "[67 rows x 5 columns]"
      ]
     },
     "execution_count": 47,
     "metadata": {},
     "output_type": "execute_result"
    }
   ],
   "source": [
    "df=pd.read_csv(\"Stores.csv\")\n",
    "df"
   ]
  },
  {
   "cell_type": "code",
   "execution_count": 48,
   "id": "6ea324d1-1190-4aea-b963-e93c6a04140b",
   "metadata": {},
   "outputs": [
    {
     "data": {
      "text/html": [
       "<div>\n",
       "<style scoped>\n",
       "    .dataframe tbody tr th:only-of-type {\n",
       "        vertical-align: middle;\n",
       "    }\n",
       "\n",
       "    .dataframe tbody tr th {\n",
       "        vertical-align: top;\n",
       "    }\n",
       "\n",
       "    .dataframe thead th {\n",
       "        text-align: right;\n",
       "    }\n",
       "</style>\n",
       "<table border=\"1\" class=\"dataframe\">\n",
       "  <thead>\n",
       "    <tr style=\"text-align: right;\">\n",
       "      <th></th>\n",
       "      <th>StoreKey</th>\n",
       "      <th>Country</th>\n",
       "      <th>State</th>\n",
       "      <th>Square Meters</th>\n",
       "      <th>Open Date</th>\n",
       "    </tr>\n",
       "  </thead>\n",
       "  <tbody>\n",
       "    <tr>\n",
       "      <th>0</th>\n",
       "      <td>1</td>\n",
       "      <td>Australia</td>\n",
       "      <td>Australian Capital Territory</td>\n",
       "      <td>595.0</td>\n",
       "      <td>2008-01-01</td>\n",
       "    </tr>\n",
       "    <tr>\n",
       "      <th>1</th>\n",
       "      <td>2</td>\n",
       "      <td>Australia</td>\n",
       "      <td>Northern Territory</td>\n",
       "      <td>665.0</td>\n",
       "      <td>2008-01-12</td>\n",
       "    </tr>\n",
       "    <tr>\n",
       "      <th>2</th>\n",
       "      <td>3</td>\n",
       "      <td>Australia</td>\n",
       "      <td>South Australia</td>\n",
       "      <td>2000.0</td>\n",
       "      <td>2012-01-07</td>\n",
       "    </tr>\n",
       "    <tr>\n",
       "      <th>3</th>\n",
       "      <td>4</td>\n",
       "      <td>Australia</td>\n",
       "      <td>Tasmania</td>\n",
       "      <td>2000.0</td>\n",
       "      <td>2010-01-01</td>\n",
       "    </tr>\n",
       "    <tr>\n",
       "      <th>4</th>\n",
       "      <td>5</td>\n",
       "      <td>Australia</td>\n",
       "      <td>Victoria</td>\n",
       "      <td>2000.0</td>\n",
       "      <td>2015-12-09</td>\n",
       "    </tr>\n",
       "    <tr>\n",
       "      <th>...</th>\n",
       "      <td>...</td>\n",
       "      <td>...</td>\n",
       "      <td>...</td>\n",
       "      <td>...</td>\n",
       "      <td>...</td>\n",
       "    </tr>\n",
       "    <tr>\n",
       "      <th>62</th>\n",
       "      <td>63</td>\n",
       "      <td>United States</td>\n",
       "      <td>Utah</td>\n",
       "      <td>2000.0</td>\n",
       "      <td>2008-03-06</td>\n",
       "    </tr>\n",
       "    <tr>\n",
       "      <th>63</th>\n",
       "      <td>64</td>\n",
       "      <td>United States</td>\n",
       "      <td>Washington DC</td>\n",
       "      <td>1330.0</td>\n",
       "      <td>2010-01-01</td>\n",
       "    </tr>\n",
       "    <tr>\n",
       "      <th>64</th>\n",
       "      <td>65</td>\n",
       "      <td>United States</td>\n",
       "      <td>West Virginia</td>\n",
       "      <td>1785.0</td>\n",
       "      <td>2012-01-01</td>\n",
       "    </tr>\n",
       "    <tr>\n",
       "      <th>65</th>\n",
       "      <td>66</td>\n",
       "      <td>United States</td>\n",
       "      <td>Wyoming</td>\n",
       "      <td>840.0</td>\n",
       "      <td>2014-01-01</td>\n",
       "    </tr>\n",
       "    <tr>\n",
       "      <th>66</th>\n",
       "      <td>0</td>\n",
       "      <td>Online</td>\n",
       "      <td>Online</td>\n",
       "      <td>NaN</td>\n",
       "      <td>2010-01-01</td>\n",
       "    </tr>\n",
       "  </tbody>\n",
       "</table>\n",
       "<p>67 rows × 5 columns</p>\n",
       "</div>"
      ],
      "text/plain": [
       "    StoreKey        Country                         State  Square Meters  \\\n",
       "0          1      Australia  Australian Capital Territory          595.0   \n",
       "1          2      Australia            Northern Territory          665.0   \n",
       "2          3      Australia               South Australia         2000.0   \n",
       "3          4      Australia                      Tasmania         2000.0   \n",
       "4          5      Australia                      Victoria         2000.0   \n",
       "..       ...            ...                           ...            ...   \n",
       "62        63  United States                          Utah         2000.0   \n",
       "63        64  United States                 Washington DC         1330.0   \n",
       "64        65  United States                 West Virginia         1785.0   \n",
       "65        66  United States                       Wyoming          840.0   \n",
       "66         0         Online                        Online            NaN   \n",
       "\n",
       "    Open Date  \n",
       "0  2008-01-01  \n",
       "1  2008-01-12  \n",
       "2  2012-01-07  \n",
       "3  2010-01-01  \n",
       "4  2015-12-09  \n",
       "..        ...  \n",
       "62 2008-03-06  \n",
       "63 2010-01-01  \n",
       "64 2012-01-01  \n",
       "65 2014-01-01  \n",
       "66 2010-01-01  \n",
       "\n",
       "[67 rows x 5 columns]"
      ]
     },
     "execution_count": 48,
     "metadata": {},
     "output_type": "execute_result"
    }
   ],
   "source": [
    "df['Open Date']= pd.to_datetime(df['Open Date'])\n",
    "df"
   ]
  },
  {
   "cell_type": "code",
   "execution_count": 49,
   "id": "8f5e49fe-aef9-4669-93f3-768d7ce10db2",
   "metadata": {},
   "outputs": [
    {
     "data": {
      "text/plain": [
       "StoreKey         0\n",
       "Country          0\n",
       "State            0\n",
       "Square Meters    1\n",
       "Open Date        0\n",
       "dtype: int64"
      ]
     },
     "execution_count": 49,
     "metadata": {},
     "output_type": "execute_result"
    }
   ],
   "source": [
    "df.isna().sum()"
   ]
  },
  {
   "cell_type": "code",
   "execution_count": null,
   "id": "4a611368-cdb2-40f0-9208-85b8afa7adb4",
   "metadata": {},
   "outputs": [],
   "source": []
  },
  {
   "cell_type": "code",
   "execution_count": 50,
   "id": "d4b62e03-d35f-4505-80ed-30c7dcbb1761",
   "metadata": {},
   "outputs": [
    {
     "name": "stdout",
     "output_type": "stream",
     "text": [
      "<class 'pandas.core.frame.DataFrame'>\n",
      "RangeIndex: 67 entries, 0 to 66\n",
      "Data columns (total 3 columns):\n",
      " #   Column     Non-Null Count  Dtype         \n",
      "---  ------     --------------  -----         \n",
      " 0   Country    67 non-null     object        \n",
      " 1   State      67 non-null     object        \n",
      " 2   Open Date  67 non-null     datetime64[ns]\n",
      "dtypes: datetime64[ns](1), object(2)\n",
      "memory usage: 1.7+ KB\n"
     ]
    }
   ],
   "source": [
    "df1.info()"
   ]
  },
  {
   "cell_type": "code",
   "execution_count": 51,
   "id": "11cd2d9c-f863-466f-ae21-a3d4e9613fed",
   "metadata": {},
   "outputs": [
    {
     "data": {
      "text/html": [
       "<div>\n",
       "<style scoped>\n",
       "    .dataframe tbody tr th:only-of-type {\n",
       "        vertical-align: middle;\n",
       "    }\n",
       "\n",
       "    .dataframe tbody tr th {\n",
       "        vertical-align: top;\n",
       "    }\n",
       "\n",
       "    .dataframe thead th {\n",
       "        text-align: right;\n",
       "    }\n",
       "</style>\n",
       "<table border=\"1\" class=\"dataframe\">\n",
       "  <thead>\n",
       "    <tr style=\"text-align: right;\">\n",
       "      <th></th>\n",
       "      <th>StoreKey</th>\n",
       "      <th>Country</th>\n",
       "      <th>State</th>\n",
       "      <th>Square Meters</th>\n",
       "      <th>Open Date</th>\n",
       "    </tr>\n",
       "  </thead>\n",
       "  <tbody>\n",
       "    <tr>\n",
       "      <th>0</th>\n",
       "      <td>1</td>\n",
       "      <td>Australia</td>\n",
       "      <td>Australian Capital Territory</td>\n",
       "      <td>595.0</td>\n",
       "      <td>2008-01-01</td>\n",
       "    </tr>\n",
       "    <tr>\n",
       "      <th>1</th>\n",
       "      <td>2</td>\n",
       "      <td>Australia</td>\n",
       "      <td>Northern Territory</td>\n",
       "      <td>665.0</td>\n",
       "      <td>2008-01-12</td>\n",
       "    </tr>\n",
       "    <tr>\n",
       "      <th>2</th>\n",
       "      <td>3</td>\n",
       "      <td>Australia</td>\n",
       "      <td>South Australia</td>\n",
       "      <td>2000.0</td>\n",
       "      <td>2012-01-07</td>\n",
       "    </tr>\n",
       "    <tr>\n",
       "      <th>3</th>\n",
       "      <td>4</td>\n",
       "      <td>Australia</td>\n",
       "      <td>Tasmania</td>\n",
       "      <td>2000.0</td>\n",
       "      <td>2010-01-01</td>\n",
       "    </tr>\n",
       "    <tr>\n",
       "      <th>4</th>\n",
       "      <td>5</td>\n",
       "      <td>Australia</td>\n",
       "      <td>Victoria</td>\n",
       "      <td>2000.0</td>\n",
       "      <td>2015-12-09</td>\n",
       "    </tr>\n",
       "    <tr>\n",
       "      <th>...</th>\n",
       "      <td>...</td>\n",
       "      <td>...</td>\n",
       "      <td>...</td>\n",
       "      <td>...</td>\n",
       "      <td>...</td>\n",
       "    </tr>\n",
       "    <tr>\n",
       "      <th>62</th>\n",
       "      <td>63</td>\n",
       "      <td>United States</td>\n",
       "      <td>Utah</td>\n",
       "      <td>2000.0</td>\n",
       "      <td>2008-03-06</td>\n",
       "    </tr>\n",
       "    <tr>\n",
       "      <th>63</th>\n",
       "      <td>64</td>\n",
       "      <td>United States</td>\n",
       "      <td>Washington DC</td>\n",
       "      <td>1330.0</td>\n",
       "      <td>2010-01-01</td>\n",
       "    </tr>\n",
       "    <tr>\n",
       "      <th>64</th>\n",
       "      <td>65</td>\n",
       "      <td>United States</td>\n",
       "      <td>West Virginia</td>\n",
       "      <td>1785.0</td>\n",
       "      <td>2012-01-01</td>\n",
       "    </tr>\n",
       "    <tr>\n",
       "      <th>65</th>\n",
       "      <td>66</td>\n",
       "      <td>United States</td>\n",
       "      <td>Wyoming</td>\n",
       "      <td>840.0</td>\n",
       "      <td>2014-01-01</td>\n",
       "    </tr>\n",
       "    <tr>\n",
       "      <th>66</th>\n",
       "      <td>0</td>\n",
       "      <td>Online</td>\n",
       "      <td>Online</td>\n",
       "      <td>NaN</td>\n",
       "      <td>2010-01-01</td>\n",
       "    </tr>\n",
       "  </tbody>\n",
       "</table>\n",
       "<p>67 rows × 5 columns</p>\n",
       "</div>"
      ],
      "text/plain": [
       "    StoreKey        Country                         State  Square Meters  \\\n",
       "0          1      Australia  Australian Capital Territory          595.0   \n",
       "1          2      Australia            Northern Territory          665.0   \n",
       "2          3      Australia               South Australia         2000.0   \n",
       "3          4      Australia                      Tasmania         2000.0   \n",
       "4          5      Australia                      Victoria         2000.0   \n",
       "..       ...            ...                           ...            ...   \n",
       "62        63  United States                          Utah         2000.0   \n",
       "63        64  United States                 Washington DC         1330.0   \n",
       "64        65  United States                 West Virginia         1785.0   \n",
       "65        66  United States                       Wyoming          840.0   \n",
       "66         0         Online                        Online            NaN   \n",
       "\n",
       "    Open Date  \n",
       "0  2008-01-01  \n",
       "1  2008-01-12  \n",
       "2  2012-01-07  \n",
       "3  2010-01-01  \n",
       "4  2015-12-09  \n",
       "..        ...  \n",
       "62 2008-03-06  \n",
       "63 2010-01-01  \n",
       "64 2012-01-01  \n",
       "65 2014-01-01  \n",
       "66 2010-01-01  \n",
       "\n",
       "[67 rows x 5 columns]"
      ]
     },
     "execution_count": 51,
     "metadata": {},
     "output_type": "execute_result"
    }
   ],
   "source": [
    "df"
   ]
  },
  {
   "cell_type": "markdown",
   "id": "601c462e-a140-42e7-9c8d-af95f1abad06",
   "metadata": {},
   "source": [
    "FINAL TABLE AFTER CLEANING"
   ]
  },
  {
   "cell_type": "code",
   "execution_count": 52,
   "id": "c3e0c8e0-c2e7-436e-832a-d3f6d92a204f",
   "metadata": {},
   "outputs": [
    {
     "data": {
      "text/html": [
       "<div>\n",
       "<style scoped>\n",
       "    .dataframe tbody tr th:only-of-type {\n",
       "        vertical-align: middle;\n",
       "    }\n",
       "\n",
       "    .dataframe tbody tr th {\n",
       "        vertical-align: top;\n",
       "    }\n",
       "\n",
       "    .dataframe thead th {\n",
       "        text-align: right;\n",
       "    }\n",
       "</style>\n",
       "<table border=\"1\" class=\"dataframe\">\n",
       "  <thead>\n",
       "    <tr style=\"text-align: right;\">\n",
       "      <th></th>\n",
       "      <th>StoreKey</th>\n",
       "      <th>Country</th>\n",
       "      <th>State</th>\n",
       "      <th>Square Meters</th>\n",
       "      <th>Open Date</th>\n",
       "    </tr>\n",
       "  </thead>\n",
       "  <tbody>\n",
       "    <tr>\n",
       "      <th>0</th>\n",
       "      <td>1</td>\n",
       "      <td>Australia</td>\n",
       "      <td>Australian Capital Territory</td>\n",
       "      <td>595.0</td>\n",
       "      <td>2008-01-01</td>\n",
       "    </tr>\n",
       "    <tr>\n",
       "      <th>1</th>\n",
       "      <td>2</td>\n",
       "      <td>Australia</td>\n",
       "      <td>Northern Territory</td>\n",
       "      <td>665.0</td>\n",
       "      <td>2008-01-12</td>\n",
       "    </tr>\n",
       "    <tr>\n",
       "      <th>2</th>\n",
       "      <td>3</td>\n",
       "      <td>Australia</td>\n",
       "      <td>South Australia</td>\n",
       "      <td>2000.0</td>\n",
       "      <td>2012-01-07</td>\n",
       "    </tr>\n",
       "    <tr>\n",
       "      <th>3</th>\n",
       "      <td>4</td>\n",
       "      <td>Australia</td>\n",
       "      <td>Tasmania</td>\n",
       "      <td>2000.0</td>\n",
       "      <td>2010-01-01</td>\n",
       "    </tr>\n",
       "    <tr>\n",
       "      <th>4</th>\n",
       "      <td>5</td>\n",
       "      <td>Australia</td>\n",
       "      <td>Victoria</td>\n",
       "      <td>2000.0</td>\n",
       "      <td>2015-12-09</td>\n",
       "    </tr>\n",
       "    <tr>\n",
       "      <th>...</th>\n",
       "      <td>...</td>\n",
       "      <td>...</td>\n",
       "      <td>...</td>\n",
       "      <td>...</td>\n",
       "      <td>...</td>\n",
       "    </tr>\n",
       "    <tr>\n",
       "      <th>62</th>\n",
       "      <td>63</td>\n",
       "      <td>United States</td>\n",
       "      <td>Utah</td>\n",
       "      <td>2000.0</td>\n",
       "      <td>2008-03-06</td>\n",
       "    </tr>\n",
       "    <tr>\n",
       "      <th>63</th>\n",
       "      <td>64</td>\n",
       "      <td>United States</td>\n",
       "      <td>Washington DC</td>\n",
       "      <td>1330.0</td>\n",
       "      <td>2010-01-01</td>\n",
       "    </tr>\n",
       "    <tr>\n",
       "      <th>64</th>\n",
       "      <td>65</td>\n",
       "      <td>United States</td>\n",
       "      <td>West Virginia</td>\n",
       "      <td>1785.0</td>\n",
       "      <td>2012-01-01</td>\n",
       "    </tr>\n",
       "    <tr>\n",
       "      <th>65</th>\n",
       "      <td>66</td>\n",
       "      <td>United States</td>\n",
       "      <td>Wyoming</td>\n",
       "      <td>840.0</td>\n",
       "      <td>2014-01-01</td>\n",
       "    </tr>\n",
       "    <tr>\n",
       "      <th>66</th>\n",
       "      <td>0</td>\n",
       "      <td>Online</td>\n",
       "      <td>Online</td>\n",
       "      <td>840.0</td>\n",
       "      <td>2010-01-01</td>\n",
       "    </tr>\n",
       "  </tbody>\n",
       "</table>\n",
       "<p>67 rows × 5 columns</p>\n",
       "</div>"
      ],
      "text/plain": [
       "    StoreKey        Country                         State  Square Meters  \\\n",
       "0          1      Australia  Australian Capital Territory          595.0   \n",
       "1          2      Australia            Northern Territory          665.0   \n",
       "2          3      Australia               South Australia         2000.0   \n",
       "3          4      Australia                      Tasmania         2000.0   \n",
       "4          5      Australia                      Victoria         2000.0   \n",
       "..       ...            ...                           ...            ...   \n",
       "62        63  United States                          Utah         2000.0   \n",
       "63        64  United States                 Washington DC         1330.0   \n",
       "64        65  United States                 West Virginia         1785.0   \n",
       "65        66  United States                       Wyoming          840.0   \n",
       "66         0         Online                        Online          840.0   \n",
       "\n",
       "    Open Date  \n",
       "0  2008-01-01  \n",
       "1  2008-01-12  \n",
       "2  2012-01-07  \n",
       "3  2010-01-01  \n",
       "4  2015-12-09  \n",
       "..        ...  \n",
       "62 2008-03-06  \n",
       "63 2010-01-01  \n",
       "64 2012-01-01  \n",
       "65 2014-01-01  \n",
       "66 2010-01-01  \n",
       "\n",
       "[67 rows x 5 columns]"
      ]
     },
     "execution_count": 52,
     "metadata": {},
     "output_type": "execute_result"
    }
   ],
   "source": [
    "df['Square Meters']=df['Square Meters'].ffill()\n",
    "df"
   ]
  },
  {
   "cell_type": "code",
   "execution_count": 53,
   "id": "f1ad9d82-7527-4658-9570-7378678355e1",
   "metadata": {},
   "outputs": [
    {
     "data": {
      "text/plain": [
       "StoreKey         0\n",
       "Country          0\n",
       "State            0\n",
       "Square Meters    0\n",
       "Open Date        0\n",
       "dtype: int64"
      ]
     },
     "execution_count": 53,
     "metadata": {},
     "output_type": "execute_result"
    }
   ],
   "source": [
    "df.isna().sum()"
   ]
  },
  {
   "cell_type": "code",
   "execution_count": 54,
   "id": "969ca454-0780-4e2b-8d03-1035b39c8042",
   "metadata": {},
   "outputs": [],
   "source": [
    "final3=df"
   ]
  },
  {
   "cell_type": "code",
   "execution_count": 55,
   "id": "8a77f7c3-bc35-477d-8f17-89ece2fe8c31",
   "metadata": {},
   "outputs": [
    {
     "data": {
      "text/html": [
       "<div>\n",
       "<style scoped>\n",
       "    .dataframe tbody tr th:only-of-type {\n",
       "        vertical-align: middle;\n",
       "    }\n",
       "\n",
       "    .dataframe tbody tr th {\n",
       "        vertical-align: top;\n",
       "    }\n",
       "\n",
       "    .dataframe thead th {\n",
       "        text-align: right;\n",
       "    }\n",
       "</style>\n",
       "<table border=\"1\" class=\"dataframe\">\n",
       "  <thead>\n",
       "    <tr style=\"text-align: right;\">\n",
       "      <th></th>\n",
       "      <th>StoreKey</th>\n",
       "      <th>Country</th>\n",
       "      <th>State</th>\n",
       "      <th>Square Meters</th>\n",
       "      <th>Open Date</th>\n",
       "    </tr>\n",
       "  </thead>\n",
       "  <tbody>\n",
       "    <tr>\n",
       "      <th>0</th>\n",
       "      <td>1</td>\n",
       "      <td>Australia</td>\n",
       "      <td>Australian Capital Territory</td>\n",
       "      <td>595.0</td>\n",
       "      <td>2008-01-01</td>\n",
       "    </tr>\n",
       "    <tr>\n",
       "      <th>1</th>\n",
       "      <td>2</td>\n",
       "      <td>Australia</td>\n",
       "      <td>Northern Territory</td>\n",
       "      <td>665.0</td>\n",
       "      <td>2008-01-12</td>\n",
       "    </tr>\n",
       "    <tr>\n",
       "      <th>2</th>\n",
       "      <td>3</td>\n",
       "      <td>Australia</td>\n",
       "      <td>South Australia</td>\n",
       "      <td>2000.0</td>\n",
       "      <td>2012-01-07</td>\n",
       "    </tr>\n",
       "    <tr>\n",
       "      <th>3</th>\n",
       "      <td>4</td>\n",
       "      <td>Australia</td>\n",
       "      <td>Tasmania</td>\n",
       "      <td>2000.0</td>\n",
       "      <td>2010-01-01</td>\n",
       "    </tr>\n",
       "    <tr>\n",
       "      <th>4</th>\n",
       "      <td>5</td>\n",
       "      <td>Australia</td>\n",
       "      <td>Victoria</td>\n",
       "      <td>2000.0</td>\n",
       "      <td>2015-12-09</td>\n",
       "    </tr>\n",
       "    <tr>\n",
       "      <th>...</th>\n",
       "      <td>...</td>\n",
       "      <td>...</td>\n",
       "      <td>...</td>\n",
       "      <td>...</td>\n",
       "      <td>...</td>\n",
       "    </tr>\n",
       "    <tr>\n",
       "      <th>62</th>\n",
       "      <td>63</td>\n",
       "      <td>United States</td>\n",
       "      <td>Utah</td>\n",
       "      <td>2000.0</td>\n",
       "      <td>2008-03-06</td>\n",
       "    </tr>\n",
       "    <tr>\n",
       "      <th>63</th>\n",
       "      <td>64</td>\n",
       "      <td>United States</td>\n",
       "      <td>Washington DC</td>\n",
       "      <td>1330.0</td>\n",
       "      <td>2010-01-01</td>\n",
       "    </tr>\n",
       "    <tr>\n",
       "      <th>64</th>\n",
       "      <td>65</td>\n",
       "      <td>United States</td>\n",
       "      <td>West Virginia</td>\n",
       "      <td>1785.0</td>\n",
       "      <td>2012-01-01</td>\n",
       "    </tr>\n",
       "    <tr>\n",
       "      <th>65</th>\n",
       "      <td>66</td>\n",
       "      <td>United States</td>\n",
       "      <td>Wyoming</td>\n",
       "      <td>840.0</td>\n",
       "      <td>2014-01-01</td>\n",
       "    </tr>\n",
       "    <tr>\n",
       "      <th>66</th>\n",
       "      <td>0</td>\n",
       "      <td>Online</td>\n",
       "      <td>Online</td>\n",
       "      <td>840.0</td>\n",
       "      <td>2010-01-01</td>\n",
       "    </tr>\n",
       "  </tbody>\n",
       "</table>\n",
       "<p>67 rows × 5 columns</p>\n",
       "</div>"
      ],
      "text/plain": [
       "    StoreKey        Country                         State  Square Meters  \\\n",
       "0          1      Australia  Australian Capital Territory          595.0   \n",
       "1          2      Australia            Northern Territory          665.0   \n",
       "2          3      Australia               South Australia         2000.0   \n",
       "3          4      Australia                      Tasmania         2000.0   \n",
       "4          5      Australia                      Victoria         2000.0   \n",
       "..       ...            ...                           ...            ...   \n",
       "62        63  United States                          Utah         2000.0   \n",
       "63        64  United States                 Washington DC         1330.0   \n",
       "64        65  United States                 West Virginia         1785.0   \n",
       "65        66  United States                       Wyoming          840.0   \n",
       "66         0         Online                        Online          840.0   \n",
       "\n",
       "    Open Date  \n",
       "0  2008-01-01  \n",
       "1  2008-01-12  \n",
       "2  2012-01-07  \n",
       "3  2010-01-01  \n",
       "4  2015-12-09  \n",
       "..        ...  \n",
       "62 2008-03-06  \n",
       "63 2010-01-01  \n",
       "64 2012-01-01  \n",
       "65 2014-01-01  \n",
       "66 2010-01-01  \n",
       "\n",
       "[67 rows x 5 columns]"
      ]
     },
     "execution_count": 55,
     "metadata": {},
     "output_type": "execute_result"
    }
   ],
   "source": [
    "final3"
   ]
  },
  {
   "cell_type": "markdown",
   "id": "17afde73-c0cd-4ce7-9623-d0ab2f41a3a1",
   "metadata": {},
   "source": [
    "BOX PLOT"
   ]
  },
  {
   "cell_type": "code",
   "execution_count": 56,
   "id": "9df5af2b-ed20-4c68-8654-3625b1266698",
   "metadata": {},
   "outputs": [
    {
     "data": {
      "application/vnd.plotly.v1+json": {
       "config": {
        "plotlyServerURL": "https://plot.ly"
       },
       "data": [
        {
         "name": "StoreKey",
         "type": "box",
         "y": [
          1,
          2,
          3,
          4,
          5,
          6,
          7,
          8,
          9,
          10,
          11,
          12,
          13,
          14,
          15,
          16,
          17,
          18,
          19,
          20,
          21,
          22,
          23,
          24,
          25,
          26,
          27,
          28,
          29,
          30,
          31,
          32,
          33,
          34,
          35,
          36,
          37,
          38,
          39,
          40,
          41,
          42,
          43,
          44,
          45,
          46,
          47,
          48,
          49,
          50,
          51,
          52,
          53,
          54,
          55,
          56,
          57,
          58,
          59,
          60,
          61,
          62,
          63,
          64,
          65,
          66,
          0
         ]
        },
        {
         "name": "Country",
         "type": "box",
         "y": [
          "Australia",
          "Australia",
          "Australia",
          "Australia",
          "Australia",
          "Australia",
          "Canada",
          "Canada",
          "Canada",
          "Canada",
          "Canada",
          "France",
          "France",
          "France",
          "France",
          "France",
          "France",
          "France",
          "Germany",
          "Germany",
          "Germany",
          "Germany",
          "Germany",
          "Germany",
          "Germany",
          "Germany",
          "Germany",
          "Italy",
          "Italy",
          "Italy",
          "Netherlands",
          "Netherlands",
          "Netherlands",
          "Netherlands",
          "Netherlands",
          "United Kingdom",
          "United Kingdom",
          "United Kingdom",
          "United Kingdom",
          "United Kingdom",
          "United Kingdom",
          "United Kingdom",
          "United States",
          "United States",
          "United States",
          "United States",
          "United States",
          "United States",
          "United States",
          "United States",
          "United States",
          "United States",
          "United States",
          "United States",
          "United States",
          "United States",
          "United States",
          "United States",
          "United States",
          "United States",
          "United States",
          "United States",
          "United States",
          "United States",
          "United States",
          "United States",
          "Online"
         ]
        },
        {
         "name": "State",
         "type": "box",
         "y": [
          "Australian Capital Territory",
          "Northern Territory",
          "South Australia",
          "Tasmania",
          "Victoria",
          "Western Australia",
          "New Brunswick",
          "Newfoundland and Labrador",
          "Northwest Territories",
          "Nunavut",
          "Yukon",
          "Basse-Normandie",
          "Corse",
          "Franche-Comté",
          "La Réunion",
          "Limousin",
          "Martinique",
          "Mayotte",
          "Berlin",
          "Brandenburg",
          "Freie Hansestadt Bremen",
          "Freistaat Thüringen",
          "Hamburg",
          "Hessen",
          "Mecklenburg-Vorpommern",
          "Saarland",
          "Sachsen-Anhalt",
          "Caltanissetta",
          "Enna",
          "Pesaro",
          "Drenthe",
          "Flevoland",
          "Friesland",
          "Groningen",
          "Zeeland",
          "Armagh",
          "Ayrshire",
          "Belfast",
          "Blaenau Gwent",
          "Dungannon and South Tyrone",
          "Fermanagh",
          "North Down",
          "Alaska",
          "Arkansas",
          "Connecticut",
          "Delaware",
          "Hawaii",
          "Idaho",
          "Iowa",
          "Kansas",
          "Maine",
          "Mississippi",
          "Montana",
          "Nebraska",
          "Nevada",
          "New Hampshire",
          "New Mexico",
          "North Dakota",
          "Oregon",
          "Rhode Island",
          "South Carolina",
          "South Dakota",
          "Utah",
          "Washington DC",
          "West Virginia",
          "Wyoming",
          "Online"
         ]
        },
        {
         "name": "Square Meters",
         "type": "box",
         "y": [
          595,
          665,
          2000,
          2000,
          2000,
          2000,
          1105,
          2105,
          1500,
          1210,
          1210,
          350,
          245,
          350,
          400,
          385,
          350,
          310,
          1295,
          1715,
          560,
          2000,
          1365,
          1855,
          1610,
          350,
          2000,
          1200,
          1000,
          2100,
          1085,
          910,
          1540,
          1365,
          1225,
          1300,
          2100,
          1800,
          2100,
          1300,
          2100,
          1900,
          1190,
          2000,
          2000,
          1015,
          1120,
          1540,
          2000,
          2000,
          1295,
          2000,
          1260,
          2000,
          2000,
          1260,
          1645,
          1330,
          2000,
          1260,
          2000,
          1120,
          2000,
          1330,
          1785,
          840,
          840
         ]
        },
        {
         "name": "Open Date",
         "type": "box",
         "y": [
          "2008-01-01T00:00:00",
          "2008-01-12T00:00:00",
          "2012-01-07T00:00:00",
          "2010-01-01T00:00:00",
          "2015-12-09T00:00:00",
          "2010-01-01T00:00:00",
          "2007-05-07T00:00:00",
          "2014-07-02T00:00:00",
          "2005-03-04T00:00:00",
          "2015-04-04T00:00:00",
          "2009-06-03T00:00:00",
          "2012-06-06T00:00:00",
          "2013-06-07T00:00:00",
          "2009-12-15T00:00:00",
          "2015-01-01T00:00:00",
          "2010-06-03T00:00:00",
          "2007-07-08T00:00:00",
          "2012-08-08T00:00:00",
          "2015-04-04T00:00:00",
          "2012-12-15T00:00:00",
          "2018-06-03T00:00:00",
          "2008-03-06T00:00:00",
          "2010-01-01T00:00:00",
          "2012-12-15T00:00:00",
          "2010-01-01T00:00:00",
          "2019-03-05T00:00:00",
          "2008-08-08T00:00:00",
          "2012-12-15T00:00:00",
          "2008-01-01T00:00:00",
          "2008-01-12T00:00:00",
          "2012-01-07T00:00:00",
          "2010-01-01T00:00:00",
          "2015-12-09T00:00:00",
          "2010-01-01T00:00:00",
          "2007-05-07T00:00:00",
          "2014-07-02T00:00:00",
          "2005-03-04T00:00:00",
          "2015-04-04T00:00:00",
          "2009-06-03T00:00:00",
          "2012-06-06T00:00:00",
          "2013-06-07T00:00:00",
          "2009-12-15T00:00:00",
          "2015-01-01T00:00:00",
          "2010-06-03T00:00:00",
          "2007-07-08T00:00:00",
          "2012-08-08T00:00:00",
          "2015-04-04T00:00:00",
          "2012-12-15T00:00:00",
          "2018-06-03T00:00:00",
          "2008-03-06T00:00:00",
          "2010-01-01T00:00:00",
          "2009-06-03T00:00:00",
          "2012-06-06T00:00:00",
          "2013-06-07T00:00:00",
          "2009-12-15T00:00:00",
          "2015-01-01T00:00:00",
          "2010-06-03T00:00:00",
          "2007-07-08T00:00:00",
          "2012-08-08T00:00:00",
          "2005-04-04T00:00:00",
          "2012-12-15T00:00:00",
          "2018-06-03T00:00:00",
          "2008-03-06T00:00:00",
          "2010-01-01T00:00:00",
          "2012-01-01T00:00:00",
          "2014-01-01T00:00:00",
          "2010-01-01T00:00:00"
         ]
        }
       ],
       "layout": {
        "autosize": true,
        "template": {
         "data": {
          "bar": [
           {
            "error_x": {
             "color": "#2a3f5f"
            },
            "error_y": {
             "color": "#2a3f5f"
            },
            "marker": {
             "line": {
              "color": "#E5ECF6",
              "width": 0.5
             },
             "pattern": {
              "fillmode": "overlay",
              "size": 10,
              "solidity": 0.2
             }
            },
            "type": "bar"
           }
          ],
          "barpolar": [
           {
            "marker": {
             "line": {
              "color": "#E5ECF6",
              "width": 0.5
             },
             "pattern": {
              "fillmode": "overlay",
              "size": 10,
              "solidity": 0.2
             }
            },
            "type": "barpolar"
           }
          ],
          "carpet": [
           {
            "aaxis": {
             "endlinecolor": "#2a3f5f",
             "gridcolor": "white",
             "linecolor": "white",
             "minorgridcolor": "white",
             "startlinecolor": "#2a3f5f"
            },
            "baxis": {
             "endlinecolor": "#2a3f5f",
             "gridcolor": "white",
             "linecolor": "white",
             "minorgridcolor": "white",
             "startlinecolor": "#2a3f5f"
            },
            "type": "carpet"
           }
          ],
          "choropleth": [
           {
            "colorbar": {
             "outlinewidth": 0,
             "ticks": ""
            },
            "type": "choropleth"
           }
          ],
          "contour": [
           {
            "colorbar": {
             "outlinewidth": 0,
             "ticks": ""
            },
            "colorscale": [
             [
              0,
              "#0d0887"
             ],
             [
              0.1111111111111111,
              "#46039f"
             ],
             [
              0.2222222222222222,
              "#7201a8"
             ],
             [
              0.3333333333333333,
              "#9c179e"
             ],
             [
              0.4444444444444444,
              "#bd3786"
             ],
             [
              0.5555555555555556,
              "#d8576b"
             ],
             [
              0.6666666666666666,
              "#ed7953"
             ],
             [
              0.7777777777777778,
              "#fb9f3a"
             ],
             [
              0.8888888888888888,
              "#fdca26"
             ],
             [
              1,
              "#f0f921"
             ]
            ],
            "type": "contour"
           }
          ],
          "contourcarpet": [
           {
            "colorbar": {
             "outlinewidth": 0,
             "ticks": ""
            },
            "type": "contourcarpet"
           }
          ],
          "heatmap": [
           {
            "colorbar": {
             "outlinewidth": 0,
             "ticks": ""
            },
            "colorscale": [
             [
              0,
              "#0d0887"
             ],
             [
              0.1111111111111111,
              "#46039f"
             ],
             [
              0.2222222222222222,
              "#7201a8"
             ],
             [
              0.3333333333333333,
              "#9c179e"
             ],
             [
              0.4444444444444444,
              "#bd3786"
             ],
             [
              0.5555555555555556,
              "#d8576b"
             ],
             [
              0.6666666666666666,
              "#ed7953"
             ],
             [
              0.7777777777777778,
              "#fb9f3a"
             ],
             [
              0.8888888888888888,
              "#fdca26"
             ],
             [
              1,
              "#f0f921"
             ]
            ],
            "type": "heatmap"
           }
          ],
          "heatmapgl": [
           {
            "colorbar": {
             "outlinewidth": 0,
             "ticks": ""
            },
            "colorscale": [
             [
              0,
              "#0d0887"
             ],
             [
              0.1111111111111111,
              "#46039f"
             ],
             [
              0.2222222222222222,
              "#7201a8"
             ],
             [
              0.3333333333333333,
              "#9c179e"
             ],
             [
              0.4444444444444444,
              "#bd3786"
             ],
             [
              0.5555555555555556,
              "#d8576b"
             ],
             [
              0.6666666666666666,
              "#ed7953"
             ],
             [
              0.7777777777777778,
              "#fb9f3a"
             ],
             [
              0.8888888888888888,
              "#fdca26"
             ],
             [
              1,
              "#f0f921"
             ]
            ],
            "type": "heatmapgl"
           }
          ],
          "histogram": [
           {
            "marker": {
             "pattern": {
              "fillmode": "overlay",
              "size": 10,
              "solidity": 0.2
             }
            },
            "type": "histogram"
           }
          ],
          "histogram2d": [
           {
            "colorbar": {
             "outlinewidth": 0,
             "ticks": ""
            },
            "colorscale": [
             [
              0,
              "#0d0887"
             ],
             [
              0.1111111111111111,
              "#46039f"
             ],
             [
              0.2222222222222222,
              "#7201a8"
             ],
             [
              0.3333333333333333,
              "#9c179e"
             ],
             [
              0.4444444444444444,
              "#bd3786"
             ],
             [
              0.5555555555555556,
              "#d8576b"
             ],
             [
              0.6666666666666666,
              "#ed7953"
             ],
             [
              0.7777777777777778,
              "#fb9f3a"
             ],
             [
              0.8888888888888888,
              "#fdca26"
             ],
             [
              1,
              "#f0f921"
             ]
            ],
            "type": "histogram2d"
           }
          ],
          "histogram2dcontour": [
           {
            "colorbar": {
             "outlinewidth": 0,
             "ticks": ""
            },
            "colorscale": [
             [
              0,
              "#0d0887"
             ],
             [
              0.1111111111111111,
              "#46039f"
             ],
             [
              0.2222222222222222,
              "#7201a8"
             ],
             [
              0.3333333333333333,
              "#9c179e"
             ],
             [
              0.4444444444444444,
              "#bd3786"
             ],
             [
              0.5555555555555556,
              "#d8576b"
             ],
             [
              0.6666666666666666,
              "#ed7953"
             ],
             [
              0.7777777777777778,
              "#fb9f3a"
             ],
             [
              0.8888888888888888,
              "#fdca26"
             ],
             [
              1,
              "#f0f921"
             ]
            ],
            "type": "histogram2dcontour"
           }
          ],
          "mesh3d": [
           {
            "colorbar": {
             "outlinewidth": 0,
             "ticks": ""
            },
            "type": "mesh3d"
           }
          ],
          "parcoords": [
           {
            "line": {
             "colorbar": {
              "outlinewidth": 0,
              "ticks": ""
             }
            },
            "type": "parcoords"
           }
          ],
          "pie": [
           {
            "automargin": true,
            "type": "pie"
           }
          ],
          "scatter": [
           {
            "fillpattern": {
             "fillmode": "overlay",
             "size": 10,
             "solidity": 0.2
            },
            "type": "scatter"
           }
          ],
          "scatter3d": [
           {
            "line": {
             "colorbar": {
              "outlinewidth": 0,
              "ticks": ""
             }
            },
            "marker": {
             "colorbar": {
              "outlinewidth": 0,
              "ticks": ""
             }
            },
            "type": "scatter3d"
           }
          ],
          "scattercarpet": [
           {
            "marker": {
             "colorbar": {
              "outlinewidth": 0,
              "ticks": ""
             }
            },
            "type": "scattercarpet"
           }
          ],
          "scattergeo": [
           {
            "marker": {
             "colorbar": {
              "outlinewidth": 0,
              "ticks": ""
             }
            },
            "type": "scattergeo"
           }
          ],
          "scattergl": [
           {
            "marker": {
             "colorbar": {
              "outlinewidth": 0,
              "ticks": ""
             }
            },
            "type": "scattergl"
           }
          ],
          "scattermapbox": [
           {
            "marker": {
             "colorbar": {
              "outlinewidth": 0,
              "ticks": ""
             }
            },
            "type": "scattermapbox"
           }
          ],
          "scatterpolar": [
           {
            "marker": {
             "colorbar": {
              "outlinewidth": 0,
              "ticks": ""
             }
            },
            "type": "scatterpolar"
           }
          ],
          "scatterpolargl": [
           {
            "marker": {
             "colorbar": {
              "outlinewidth": 0,
              "ticks": ""
             }
            },
            "type": "scatterpolargl"
           }
          ],
          "scatterternary": [
           {
            "marker": {
             "colorbar": {
              "outlinewidth": 0,
              "ticks": ""
             }
            },
            "type": "scatterternary"
           }
          ],
          "surface": [
           {
            "colorbar": {
             "outlinewidth": 0,
             "ticks": ""
            },
            "colorscale": [
             [
              0,
              "#0d0887"
             ],
             [
              0.1111111111111111,
              "#46039f"
             ],
             [
              0.2222222222222222,
              "#7201a8"
             ],
             [
              0.3333333333333333,
              "#9c179e"
             ],
             [
              0.4444444444444444,
              "#bd3786"
             ],
             [
              0.5555555555555556,
              "#d8576b"
             ],
             [
              0.6666666666666666,
              "#ed7953"
             ],
             [
              0.7777777777777778,
              "#fb9f3a"
             ],
             [
              0.8888888888888888,
              "#fdca26"
             ],
             [
              1,
              "#f0f921"
             ]
            ],
            "type": "surface"
           }
          ],
          "table": [
           {
            "cells": {
             "fill": {
              "color": "#EBF0F8"
             },
             "line": {
              "color": "white"
             }
            },
            "header": {
             "fill": {
              "color": "#C8D4E3"
             },
             "line": {
              "color": "white"
             }
            },
            "type": "table"
           }
          ]
         },
         "layout": {
          "annotationdefaults": {
           "arrowcolor": "#2a3f5f",
           "arrowhead": 0,
           "arrowwidth": 1
          },
          "autotypenumbers": "strict",
          "coloraxis": {
           "colorbar": {
            "outlinewidth": 0,
            "ticks": ""
           }
          },
          "colorscale": {
           "diverging": [
            [
             0,
             "#8e0152"
            ],
            [
             0.1,
             "#c51b7d"
            ],
            [
             0.2,
             "#de77ae"
            ],
            [
             0.3,
             "#f1b6da"
            ],
            [
             0.4,
             "#fde0ef"
            ],
            [
             0.5,
             "#f7f7f7"
            ],
            [
             0.6,
             "#e6f5d0"
            ],
            [
             0.7,
             "#b8e186"
            ],
            [
             0.8,
             "#7fbc41"
            ],
            [
             0.9,
             "#4d9221"
            ],
            [
             1,
             "#276419"
            ]
           ],
           "sequential": [
            [
             0,
             "#0d0887"
            ],
            [
             0.1111111111111111,
             "#46039f"
            ],
            [
             0.2222222222222222,
             "#7201a8"
            ],
            [
             0.3333333333333333,
             "#9c179e"
            ],
            [
             0.4444444444444444,
             "#bd3786"
            ],
            [
             0.5555555555555556,
             "#d8576b"
            ],
            [
             0.6666666666666666,
             "#ed7953"
            ],
            [
             0.7777777777777778,
             "#fb9f3a"
            ],
            [
             0.8888888888888888,
             "#fdca26"
            ],
            [
             1,
             "#f0f921"
            ]
           ],
           "sequentialminus": [
            [
             0,
             "#0d0887"
            ],
            [
             0.1111111111111111,
             "#46039f"
            ],
            [
             0.2222222222222222,
             "#7201a8"
            ],
            [
             0.3333333333333333,
             "#9c179e"
            ],
            [
             0.4444444444444444,
             "#bd3786"
            ],
            [
             0.5555555555555556,
             "#d8576b"
            ],
            [
             0.6666666666666666,
             "#ed7953"
            ],
            [
             0.7777777777777778,
             "#fb9f3a"
            ],
            [
             0.8888888888888888,
             "#fdca26"
            ],
            [
             1,
             "#f0f921"
            ]
           ]
          },
          "colorway": [
           "#636efa",
           "#EF553B",
           "#00cc96",
           "#ab63fa",
           "#FFA15A",
           "#19d3f3",
           "#FF6692",
           "#B6E880",
           "#FF97FF",
           "#FECB52"
          ],
          "font": {
           "color": "#2a3f5f"
          },
          "geo": {
           "bgcolor": "white",
           "lakecolor": "white",
           "landcolor": "#E5ECF6",
           "showlakes": true,
           "showland": true,
           "subunitcolor": "white"
          },
          "hoverlabel": {
           "align": "left"
          },
          "hovermode": "closest",
          "mapbox": {
           "style": "light"
          },
          "paper_bgcolor": "white",
          "plot_bgcolor": "#E5ECF6",
          "polar": {
           "angularaxis": {
            "gridcolor": "white",
            "linecolor": "white",
            "ticks": ""
           },
           "bgcolor": "#E5ECF6",
           "radialaxis": {
            "gridcolor": "white",
            "linecolor": "white",
            "ticks": ""
           }
          },
          "scene": {
           "xaxis": {
            "backgroundcolor": "#E5ECF6",
            "gridcolor": "white",
            "gridwidth": 2,
            "linecolor": "white",
            "showbackground": true,
            "ticks": "",
            "zerolinecolor": "white"
           },
           "yaxis": {
            "backgroundcolor": "#E5ECF6",
            "gridcolor": "white",
            "gridwidth": 2,
            "linecolor": "white",
            "showbackground": true,
            "ticks": "",
            "zerolinecolor": "white"
           },
           "zaxis": {
            "backgroundcolor": "#E5ECF6",
            "gridcolor": "white",
            "gridwidth": 2,
            "linecolor": "white",
            "showbackground": true,
            "ticks": "",
            "zerolinecolor": "white"
           }
          },
          "shapedefaults": {
           "line": {
            "color": "#2a3f5f"
           }
          },
          "ternary": {
           "aaxis": {
            "gridcolor": "white",
            "linecolor": "white",
            "ticks": ""
           },
           "baxis": {
            "gridcolor": "white",
            "linecolor": "white",
            "ticks": ""
           },
           "bgcolor": "#E5ECF6",
           "caxis": {
            "gridcolor": "white",
            "linecolor": "white",
            "ticks": ""
           }
          },
          "title": {
           "x": 0.05
          },
          "xaxis": {
           "automargin": true,
           "gridcolor": "white",
           "linecolor": "white",
           "ticks": "",
           "title": {
            "standoff": 15
           },
           "zerolinecolor": "white",
           "zerolinewidth": 2
          },
          "yaxis": {
           "automargin": true,
           "gridcolor": "white",
           "linecolor": "white",
           "ticks": "",
           "title": {
            "standoff": 15
           },
           "zerolinecolor": "white",
           "zerolinewidth": 2
          }
         }
        },
        "title": {
         "text": "Box Plot of Numerical Columns"
        },
        "xaxis": {
         "autorange": true,
         "range": [
          -0.5,
          3.5
         ],
         "title": {
          "text": "Column"
         },
         "type": "category"
        },
        "yaxis": {
         "autorange": true,
         "range": [
          -116.94444444444444,
          2221.9444444444443
         ],
         "title": {
          "text": "Value"
         },
         "type": "linear"
        }
       }
      },
      "image/png": "[encoded data removed]",
      "text/html": [
       "<div>                            <div id=\"d9db0599-8e5a-4ff4-83d7-53531037783c\" class=\"plotly-graph-div\" style=\"height:525px; width:100%;\"></div>            <script type=\"text/javascript\">                require([\"plotly\"], function(Plotly) {                    window.PLOTLYENV=window.PLOTLYENV || {};                                    if (document.getElementById(\"d9db0599-8e5a-4ff4-83d7-53531037783c\")) {                    Plotly.newPlot(                        \"d9db0599-8e5a-4ff4-83d7-53531037783c\",                        [{\"name\":\"StoreKey\",\"y\":[1,2,3,4,5,6,7,8,9,10,11,12,13,14,15,16,17,18,19,20,21,22,23,24,25,26,27,28,29,30,31,32,33,34,35,36,37,38,39,40,41,42,43,44,45,46,47,48,49,50,51,52,53,54,55,56,57,58,59,60,61,62,63,64,65,66,0],\"type\":\"box\"},{\"name\":\"Country\",\"y\":[\"Australia\",\"Australia\",\"Australia\",\"Australia\",\"Australia\",\"Australia\",\"Canada\",\"Canada\",\"Canada\",\"Canada\",\"Canada\",\"France\",\"France\",\"France\",\"France\",\"France\",\"France\",\"France\",\"Germany\",\"Germany\",\"Germany\",\"Germany\",\"Germany\",\"Germany\",\"Germany\",\"Germany\",\"Germany\",\"Italy\",\"Italy\",\"Italy\",\"Netherlands\",\"Netherlands\",\"Netherlands\",\"Netherlands\",\"Netherlands\",\"United Kingdom\",\"United Kingdom\",\"United Kingdom\",\"United Kingdom\",\"United Kingdom\",\"United Kingdom\",\"United Kingdom\",\"United States\",\"United States\",\"United States\",\"United States\",\"United States\",\"United States\",\"United States\",\"United States\",\"United States\",\"United States\",\"United States\",\"United States\",\"United States\",\"United States\",\"United States\",\"United States\",\"United States\",\"United States\",\"United States\",\"United States\",\"United States\",\"United States\",\"United States\",\"United States\",\"Online\"],\"type\":\"box\"},{\"name\":\"State\",\"y\":[\"Australian Capital Territory\",\"Northern Territory\",\"South Australia\",\"Tasmania\",\"Victoria\",\"Western Australia\",\"New Brunswick\",\"Newfoundland and Labrador\",\"Northwest Territories\",\"Nunavut\",\"Yukon\",\"Basse-Normandie\",\"Corse\",\"Franche-Comt\\u00e9\",\"La R\\u00e9union\",\"Limousin\",\"Martinique\",\"Mayotte\",\"Berlin\",\"Brandenburg\",\"Freie Hansestadt Bremen\",\"Freistaat Th\\u00fcringen\",\"Hamburg\",\"Hessen\",\"Mecklenburg-Vorpommern\",\"Saarland\",\"Sachsen-Anhalt\",\"Caltanissetta\",\"Enna\",\"Pesaro\",\"Drenthe\",\"Flevoland\",\"Friesland\",\"Groningen\",\"Zeeland\",\"Armagh\",\"Ayrshire\",\"Belfast\",\"Blaenau Gwent\",\"Dungannon and South Tyrone\",\"Fermanagh\",\"North Down\",\"Alaska\",\"Arkansas\",\"Connecticut\",\"Delaware\",\"Hawaii\",\"Idaho\",\"Iowa\",\"Kansas\",\"Maine\",\"Mississippi\",\"Montana\",\"Nebraska\",\"Nevada\",\"New Hampshire\",\"New Mexico\",\"North Dakota\",\"Oregon\",\"Rhode Island\",\"South Carolina\",\"South Dakota\",\"Utah\",\"Washington DC\",\"West Virginia\",\"Wyoming\",\"Online\"],\"type\":\"box\"},{\"name\":\"Square Meters\",\"y\":[595.0,665.0,2000.0,2000.0,2000.0,2000.0,1105.0,2105.0,1500.0,1210.0,1210.0,350.0,245.0,350.0,400.0,385.0,350.0,310.0,1295.0,1715.0,560.0,2000.0,1365.0,1855.0,1610.0,350.0,2000.0,1200.0,1000.0,2100.0,1085.0,910.0,1540.0,1365.0,1225.0,1300.0,2100.0,1800.0,2100.0,1300.0,2100.0,1900.0,1190.0,2000.0,2000.0,1015.0,1120.0,1540.0,2000.0,2000.0,1295.0,2000.0,1260.0,2000.0,2000.0,1260.0,1645.0,1330.0,2000.0,1260.0,2000.0,1120.0,2000.0,1330.0,1785.0,840.0,840.0],\"type\":\"box\"},{\"name\":\"Open Date\",\"y\":[\"2008-01-01T00:00:00\",\"2008-01-12T00:00:00\",\"2012-01-07T00:00:00\",\"2010-01-01T00:00:00\",\"2015-12-09T00:00:00\",\"2010-01-01T00:00:00\",\"2007-05-07T00:00:00\",\"2014-07-02T00:00:00\",\"2005-03-04T00:00:00\",\"2015-04-04T00:00:00\",\"2009-06-03T00:00:00\",\"2012-06-06T00:00:00\",\"2013-06-07T00:00:00\",\"2009-12-15T00:00:00\",\"2015-01-01T00:00:00\",\"2010-06-03T00:00:00\",\"2007-07-08T00:00:00\",\"2012-08-08T00:00:00\",\"2015-04-04T00:00:00\",\"2012-12-15T00:00:00\",\"2018-06-03T00:00:00\",\"2008-03-06T00:00:00\",\"2010-01-01T00:00:00\",\"2012-12-15T00:00:00\",\"2010-01-01T00:00:00\",\"2019-03-05T00:00:00\",\"2008-08-08T00:00:00\",\"2012-12-15T00:00:00\",\"2008-01-01T00:00:00\",\"2008-01-12T00:00:00\",\"2012-01-07T00:00:00\",\"2010-01-01T00:00:00\",\"2015-12-09T00:00:00\",\"2010-01-01T00:00:00\",\"2007-05-07T00:00:00\",\"2014-07-02T00:00:00\",\"2005-03-04T00:00:00\",\"2015-04-04T00:00:00\",\"2009-06-03T00:00:00\",\"2012-06-06T00:00:00\",\"2013-06-07T00:00:00\",\"2009-12-15T00:00:00\",\"2015-01-01T00:00:00\",\"2010-06-03T00:00:00\",\"2007-07-08T00:00:00\",\"2012-08-08T00:00:00\",\"2015-04-04T00:00:00\",\"2012-12-15T00:00:00\",\"2018-06-03T00:00:00\",\"2008-03-06T00:00:00\",\"2010-01-01T00:00:00\",\"2009-06-03T00:00:00\",\"2012-06-06T00:00:00\",\"2013-06-07T00:00:00\",\"2009-12-15T00:00:00\",\"2015-01-01T00:00:00\",\"2010-06-03T00:00:00\",\"2007-07-08T00:00:00\",\"2012-08-08T00:00:00\",\"2005-04-04T00:00:00\",\"2012-12-15T00:00:00\",\"2018-06-03T00:00:00\",\"2008-03-06T00:00:00\",\"2010-01-01T00:00:00\",\"2012-01-01T00:00:00\",\"2014-01-01T00:00:00\",\"2010-01-01T00:00:00\"],\"type\":\"box\"}],                        {\"template\":{\"data\":{\"histogram2dcontour\":[{\"type\":\"histogram2dcontour\",\"colorbar\":{\"outlinewidth\":0,\"ticks\":\"\"},\"colorscale\":[[0.0,\"#0d0887\"],[0.1111111111111111,\"#46039f\"],[0.2222222222222222,\"#7201a8\"],[0.3333333333333333,\"#9c179e\"],[0.4444444444444444,\"#bd3786\"],[0.5555555555555556,\"#d8576b\"],[0.6666666666666666,\"#ed7953\"],[0.7777777777777778,\"#fb9f3a\"],[0.8888888888888888,\"#fdca26\"],[1.0,\"#f0f921\"]]}],\"choropleth\":[{\"type\":\"choropleth\",\"colorbar\":{\"outlinewidth\":0,\"ticks\":\"\"}}],\"histogram2d\":[{\"type\":\"histogram2d\",\"colorbar\":{\"outlinewidth\":0,\"ticks\":\"\"},\"colorscale\":[[0.0,\"#0d0887\"],[0.1111111111111111,\"#46039f\"],[0.2222222222222222,\"#7201a8\"],[0.3333333333333333,\"#9c179e\"],[0.4444444444444444,\"#bd3786\"],[0.5555555555555556,\"#d8576b\"],[0.6666666666666666,\"#ed7953\"],[0.7777777777777778,\"#fb9f3a\"],[0.8888888888888888,\"#fdca26\"],[1.0,\"#f0f921\"]]}],\"heatmap\":[{\"type\":\"heatmap\",\"colorbar\":{\"outlinewidth\":0,\"ticks\":\"\"},\"colorscale\":[[0.0,\"#0d0887\"],[0.1111111111111111,\"#46039f\"],[0.2222222222222222,\"#7201a8\"],[0.3333333333333333,\"#9c179e\"],[0.4444444444444444,\"#bd3786\"],[0.5555555555555556,\"#d8576b\"],[0.6666666666666666,\"#ed7953\"],[0.7777777777777778,\"#fb9f3a\"],[0.8888888888888888,\"#fdca26\"],[1.0,\"#f0f921\"]]}],\"heatmapgl\":[{\"type\":\"heatmapgl\",\"colorbar\":{\"outlinewidth\":0,\"ticks\":\"\"},\"colorscale\":[[0.0,\"#0d0887\"],[0.1111111111111111,\"#46039f\"],[0.2222222222222222,\"#7201a8\"],[0.3333333333333333,\"#9c179e\"],[0.4444444444444444,\"#bd3786\"],[0.5555555555555556,\"#d8576b\"],[0.6666666666666666,\"#ed7953\"],[0.7777777777777778,\"#fb9f3a\"],[0.8888888888888888,\"#fdca26\"],[1.0,\"#f0f921\"]]}],\"contourcarpet\":[{\"type\":\"contourcarpet\",\"colorbar\":{\"outlinewidth\":0,\"ticks\":\"\"}}],\"contour\":[{\"type\":\"contour\",\"colorbar\":{\"outlinewidth\":0,\"ticks\":\"\"},\"colorscale\":[[0.0,\"#0d0887\"],[0.1111111111111111,\"#46039f\"],[0.2222222222222222,\"#7201a8\"],[0.3333333333333333,\"#9c179e\"],[0.4444444444444444,\"#bd3786\"],[0.5555555555555556,\"#d8576b\"],[0.6666666666666666,\"#ed7953\"],[0.7777777777777778,\"#fb9f3a\"],[0.8888888888888888,\"#fdca26\"],[1.0,\"#f0f921\"]]}],\"surface\":[{\"type\":\"surface\",\"colorbar\":{\"outlinewidth\":0,\"ticks\":\"\"},\"colorscale\":[[0.0,\"#0d0887\"],[0.1111111111111111,\"#46039f\"],[0.2222222222222222,\"#7201a8\"],[0.3333333333333333,\"#9c179e\"],[0.4444444444444444,\"#bd3786\"],[0.5555555555555556,\"#d8576b\"],[0.6666666666666666,\"#ed7953\"],[0.7777777777777778,\"#fb9f3a\"],[0.8888888888888888,\"#fdca26\"],[1.0,\"#f0f921\"]]}],\"mesh3d\":[{\"type\":\"mesh3d\",\"colorbar\":{\"outlinewidth\":0,\"ticks\":\"\"}}],\"scatter\":[{\"fillpattern\":{\"fillmode\":\"overlay\",\"size\":10,\"solidity\":0.2},\"type\":\"scatter\"}],\"parcoords\":[{\"type\":\"parcoords\",\"line\":{\"colorbar\":{\"outlinewidth\":0,\"ticks\":\"\"}}}],\"scatterpolargl\":[{\"type\":\"scatterpolargl\",\"marker\":{\"colorbar\":{\"outlinewidth\":0,\"ticks\":\"\"}}}],\"bar\":[{\"error_x\":{\"color\":\"#2a3f5f\"},\"error_y\":{\"color\":\"#2a3f5f\"},\"marker\":{\"line\":{\"color\":\"#E5ECF6\",\"width\":0.5},\"pattern\":{\"fillmode\":\"overlay\",\"size\":10,\"solidity\":0.2}},\"type\":\"bar\"}],\"scattergeo\":[{\"type\":\"scattergeo\",\"marker\":{\"colorbar\":{\"outlinewidth\":0,\"ticks\":\"\"}}}],\"scatterpolar\":[{\"type\":\"scatterpolar\",\"marker\":{\"colorbar\":{\"outlinewidth\":0,\"ticks\":\"\"}}}],\"histogram\":[{\"marker\":{\"pattern\":{\"fillmode\":\"overlay\",\"size\":10,\"solidity\":0.2}},\"type\":\"histogram\"}],\"scattergl\":[{\"type\":\"scattergl\",\"marker\":{\"colorbar\":{\"outlinewidth\":0,\"ticks\":\"\"}}}],\"scatter3d\":[{\"type\":\"scatter3d\",\"line\":{\"colorbar\":{\"outlinewidth\":0,\"ticks\":\"\"}},\"marker\":{\"colorbar\":{\"outlinewidth\":0,\"ticks\":\"\"}}}],\"scattermapbox\":[{\"type\":\"scattermapbox\",\"marker\":{\"colorbar\":{\"outlinewidth\":0,\"ticks\":\"\"}}}],\"scatterternary\":[{\"type\":\"scatterternary\",\"marker\":{\"colorbar\":{\"outlinewidth\":0,\"ticks\":\"\"}}}],\"scattercarpet\":[{\"type\":\"scattercarpet\",\"marker\":{\"colorbar\":{\"outlinewidth\":0,\"ticks\":\"\"}}}],\"carpet\":[{\"aaxis\":{\"endlinecolor\":\"#2a3f5f\",\"gridcolor\":\"white\",\"linecolor\":\"white\",\"minorgridcolor\":\"white\",\"startlinecolor\":\"#2a3f5f\"},\"baxis\":{\"endlinecolor\":\"#2a3f5f\",\"gridcolor\":\"white\",\"linecolor\":\"white\",\"minorgridcolor\":\"white\",\"startlinecolor\":\"#2a3f5f\"},\"type\":\"carpet\"}],\"table\":[{\"cells\":{\"fill\":{\"color\":\"#EBF0F8\"},\"line\":{\"color\":\"white\"}},\"header\":{\"fill\":{\"color\":\"#C8D4E3\"},\"line\":{\"color\":\"white\"}},\"type\":\"table\"}],\"barpolar\":[{\"marker\":{\"line\":{\"color\":\"#E5ECF6\",\"width\":0.5},\"pattern\":{\"fillmode\":\"overlay\",\"size\":10,\"solidity\":0.2}},\"type\":\"barpolar\"}],\"pie\":[{\"automargin\":true,\"type\":\"pie\"}]},\"layout\":{\"autotypenumbers\":\"strict\",\"colorway\":[\"#636efa\",\"#EF553B\",\"#00cc96\",\"#ab63fa\",\"#FFA15A\",\"#19d3f3\",\"#FF6692\",\"#B6E880\",\"#FF97FF\",\"#FECB52\"],\"font\":{\"color\":\"#2a3f5f\"},\"hovermode\":\"closest\",\"hoverlabel\":{\"align\":\"left\"},\"paper_bgcolor\":\"white\",\"plot_bgcolor\":\"#E5ECF6\",\"polar\":{\"bgcolor\":\"#E5ECF6\",\"angularaxis\":{\"gridcolor\":\"white\",\"linecolor\":\"white\",\"ticks\":\"\"},\"radialaxis\":{\"gridcolor\":\"white\",\"linecolor\":\"white\",\"ticks\":\"\"}},\"ternary\":{\"bgcolor\":\"#E5ECF6\",\"aaxis\":{\"gridcolor\":\"white\",\"linecolor\":\"white\",\"ticks\":\"\"},\"baxis\":{\"gridcolor\":\"white\",\"linecolor\":\"white\",\"ticks\":\"\"},\"caxis\":{\"gridcolor\":\"white\",\"linecolor\":\"white\",\"ticks\":\"\"}},\"coloraxis\":{\"colorbar\":{\"outlinewidth\":0,\"ticks\":\"\"}},\"colorscale\":{\"sequential\":[[0.0,\"#0d0887\"],[0.1111111111111111,\"#46039f\"],[0.2222222222222222,\"#7201a8\"],[0.3333333333333333,\"#9c179e\"],[0.4444444444444444,\"#bd3786\"],[0.5555555555555556,\"#d8576b\"],[0.6666666666666666,\"#ed7953\"],[0.7777777777777778,\"#fb9f3a\"],[0.8888888888888888,\"#fdca26\"],[1.0,\"#f0f921\"]],\"sequentialminus\":[[0.0,\"#0d0887\"],[0.1111111111111111,\"#46039f\"],[0.2222222222222222,\"#7201a8\"],[0.3333333333333333,\"#9c179e\"],[0.4444444444444444,\"#bd3786\"],[0.5555555555555556,\"#d8576b\"],[0.6666666666666666,\"#ed7953\"],[0.7777777777777778,\"#fb9f3a\"],[0.8888888888888888,\"#fdca26\"],[1.0,\"#f0f921\"]],\"diverging\":[[0,\"#8e0152\"],[0.1,\"#c51b7d\"],[0.2,\"#de77ae\"],[0.3,\"#f1b6da\"],[0.4,\"#fde0ef\"],[0.5,\"#f7f7f7\"],[0.6,\"#e6f5d0\"],[0.7,\"#b8e186\"],[0.8,\"#7fbc41\"],[0.9,\"#4d9221\"],[1,\"#276419\"]]},\"xaxis\":{\"gridcolor\":\"white\",\"linecolor\":\"white\",\"ticks\":\"\",\"title\":{\"standoff\":15},\"zerolinecolor\":\"white\",\"automargin\":true,\"zerolinewidth\":2},\"yaxis\":{\"gridcolor\":\"white\",\"linecolor\":\"white\",\"ticks\":\"\",\"title\":{\"standoff\":15},\"zerolinecolor\":\"white\",\"automargin\":true,\"zerolinewidth\":2},\"scene\":{\"xaxis\":{\"backgroundcolor\":\"#E5ECF6\",\"gridcolor\":\"white\",\"linecolor\":\"white\",\"showbackground\":true,\"ticks\":\"\",\"zerolinecolor\":\"white\",\"gridwidth\":2},\"yaxis\":{\"backgroundcolor\":\"#E5ECF6\",\"gridcolor\":\"white\",\"linecolor\":\"white\",\"showbackground\":true,\"ticks\":\"\",\"zerolinecolor\":\"white\",\"gridwidth\":2},\"zaxis\":{\"backgroundcolor\":\"#E5ECF6\",\"gridcolor\":\"white\",\"linecolor\":\"white\",\"showbackground\":true,\"ticks\":\"\",\"zerolinecolor\":\"white\",\"gridwidth\":2}},\"shapedefaults\":{\"line\":{\"color\":\"#2a3f5f\"}},\"annotationdefaults\":{\"arrowcolor\":\"#2a3f5f\",\"arrowhead\":0,\"arrowwidth\":1},\"geo\":{\"bgcolor\":\"white\",\"landcolor\":\"#E5ECF6\",\"subunitcolor\":\"white\",\"showland\":true,\"showlakes\":true,\"lakecolor\":\"white\"},\"title\":{\"x\":0.05},\"mapbox\":{\"style\":\"light\"}}},\"title\":{\"text\":\"Box Plot of Numerical Columns\"},\"yaxis\":{\"title\":{\"text\":\"Value\"}},\"xaxis\":{\"title\":{\"text\":\"Column\"}}},                        {\"responsive\": true}                    ).then(function(){\n",
       "                            \n",
       "var gd = document.getElementById('d9db0599-8e5a-4ff4-83d7-53531037783c');\n",
       "var x = new MutationObserver(function (mutations, observer) {{\n",
       "        var display = window.getComputedStyle(gd).display;\n",
       "        if (!display || display === 'none') {{\n",
       "            console.log([gd, 'removed!']);\n",
       "            Plotly.purge(gd);\n",
       "            observer.disconnect();\n",
       "        }}\n",
       "}});\n",
       "\n",
       "// Listen for the removal of the full notebook cells\n",
       "var notebookContainer = gd.closest('#notebook-container');\n",
       "if (notebookContainer) {{\n",
       "    x.observe(notebookContainer, {childList: true});\n",
       "}}\n",
       "\n",
       "// Listen for the clearing of the current output cell\n",
       "var outputEl = gd.closest('.output');\n",
       "if (outputEl) {{\n",
       "    x.observe(outputEl, {childList: true});\n",
       "}}\n",
       "\n",
       "                        })                };                });            </script>        </div>"
      ]
     },
     "metadata": {},
     "output_type": "display_data"
    }
   ],
   "source": [
    "import plotly.graph_objects as go\n",
    "fig = go.Figure()\n",
    "\n",
    "for column in final3.columns:\n",
    "    fig.add_trace(go.Box(\n",
    "        y=final3[column],\n",
    "        name=column\n",
    "    ))\n",
    "\n",
    "# Update layout\n",
    "fig.update_layout(\n",
    "    title=\"Box Plot of Numerical Columns\",\n",
    "    yaxis_title=\"Value\",\n",
    "    xaxis_title=\"Column\"\n",
    ")\n",
    "\n",
    "# Show the plot\n",
    "fig.show()"
   ]
  },
  {
   "cell_type": "code",
   "execution_count": 57,
   "id": "00ad35ce-5fd5-4a2e-b9d8-b7e1f41ea6b9",
   "metadata": {},
   "outputs": [],
   "source": [
    "import pandas as pd\n",
    "import mysql.connector\n"
   ]
  },
  {
   "cell_type": "code",
   "execution_count": 58,
   "id": "899db548-980e-453e-bf76-28f111aa01eb",
   "metadata": {},
   "outputs": [
    {
     "data": {
      "text/plain": [
       "[[1,\n",
       "  'Australia',\n",
       "  'Australian Capital Territory',\n",
       "  595.0,\n",
       "  Timestamp('2008-01-01 00:00:00')],\n",
       " [2,\n",
       "  'Australia',\n",
       "  'Northern Territory',\n",
       "  665.0,\n",
       "  Timestamp('2008-01-12 00:00:00')],\n",
       " [3, 'Australia', 'South Australia', 2000.0, Timestamp('2012-01-07 00:00:00')],\n",
       " [4, 'Australia', 'Tasmania', 2000.0, Timestamp('2010-01-01 00:00:00')],\n",
       " [5, 'Australia', 'Victoria', 2000.0, Timestamp('2015-12-09 00:00:00')],\n",
       " [6,\n",
       "  'Australia',\n",
       "  'Western Australia',\n",
       "  2000.0,\n",
       "  Timestamp('2010-01-01 00:00:00')],\n",
       " [7, 'Canada', 'New Brunswick', 1105.0, Timestamp('2007-05-07 00:00:00')],\n",
       " [8,\n",
       "  'Canada',\n",
       "  'Newfoundland and Labrador',\n",
       "  2105.0,\n",
       "  Timestamp('2014-07-02 00:00:00')],\n",
       " [9,\n",
       "  'Canada',\n",
       "  'Northwest Territories',\n",
       "  1500.0,\n",
       "  Timestamp('2005-03-04 00:00:00')],\n",
       " [10, 'Canada', 'Nunavut', 1210.0, Timestamp('2015-04-04 00:00:00')],\n",
       " [11, 'Canada', 'Yukon', 1210.0, Timestamp('2009-06-03 00:00:00')],\n",
       " [12, 'France', 'Basse-Normandie', 350.0, Timestamp('2012-06-06 00:00:00')],\n",
       " [13, 'France', 'Corse', 245.0, Timestamp('2013-06-07 00:00:00')],\n",
       " [14, 'France', 'Franche-Comté', 350.0, Timestamp('2009-12-15 00:00:00')],\n",
       " [15, 'France', 'La Réunion', 400.0, Timestamp('2015-01-01 00:00:00')],\n",
       " [16, 'France', 'Limousin', 385.0, Timestamp('2010-06-03 00:00:00')],\n",
       " [17, 'France', 'Martinique', 350.0, Timestamp('2007-07-08 00:00:00')],\n",
       " [18, 'France', 'Mayotte', 310.0, Timestamp('2012-08-08 00:00:00')],\n",
       " [19, 'Germany', 'Berlin', 1295.0, Timestamp('2015-04-04 00:00:00')],\n",
       " [20, 'Germany', 'Brandenburg', 1715.0, Timestamp('2012-12-15 00:00:00')],\n",
       " [21,\n",
       "  'Germany',\n",
       "  'Freie Hansestadt Bremen',\n",
       "  560.0,\n",
       "  Timestamp('2018-06-03 00:00:00')],\n",
       " [22,\n",
       "  'Germany',\n",
       "  'Freistaat Thüringen',\n",
       "  2000.0,\n",
       "  Timestamp('2008-03-06 00:00:00')],\n",
       " [23, 'Germany', 'Hamburg', 1365.0, Timestamp('2010-01-01 00:00:00')],\n",
       " [24, 'Germany', 'Hessen', 1855.0, Timestamp('2012-12-15 00:00:00')],\n",
       " [25,\n",
       "  'Germany',\n",
       "  'Mecklenburg-Vorpommern',\n",
       "  1610.0,\n",
       "  Timestamp('2010-01-01 00:00:00')],\n",
       " [26, 'Germany', 'Saarland', 350.0, Timestamp('2019-03-05 00:00:00')],\n",
       " [27, 'Germany', 'Sachsen-Anhalt', 2000.0, Timestamp('2008-08-08 00:00:00')],\n",
       " [28, 'Italy', 'Caltanissetta', 1200.0, Timestamp('2012-12-15 00:00:00')],\n",
       " [29, 'Italy', 'Enna', 1000.0, Timestamp('2008-01-01 00:00:00')],\n",
       " [30, 'Italy', 'Pesaro', 2100.0, Timestamp('2008-01-12 00:00:00')],\n",
       " [31, 'Netherlands', 'Drenthe', 1085.0, Timestamp('2012-01-07 00:00:00')],\n",
       " [32, 'Netherlands', 'Flevoland', 910.0, Timestamp('2010-01-01 00:00:00')],\n",
       " [33, 'Netherlands', 'Friesland', 1540.0, Timestamp('2015-12-09 00:00:00')],\n",
       " [34, 'Netherlands', 'Groningen', 1365.0, Timestamp('2010-01-01 00:00:00')],\n",
       " [35, 'Netherlands', 'Zeeland', 1225.0, Timestamp('2007-05-07 00:00:00')],\n",
       " [36, 'United Kingdom', 'Armagh', 1300.0, Timestamp('2014-07-02 00:00:00')],\n",
       " [37, 'United Kingdom', 'Ayrshire', 2100.0, Timestamp('2005-03-04 00:00:00')],\n",
       " [38, 'United Kingdom', 'Belfast', 1800.0, Timestamp('2015-04-04 00:00:00')],\n",
       " [39,\n",
       "  'United Kingdom',\n",
       "  'Blaenau Gwent',\n",
       "  2100.0,\n",
       "  Timestamp('2009-06-03 00:00:00')],\n",
       " [40,\n",
       "  'United Kingdom',\n",
       "  'Dungannon and South Tyrone',\n",
       "  1300.0,\n",
       "  Timestamp('2012-06-06 00:00:00')],\n",
       " [41, 'United Kingdom', 'Fermanagh', 2100.0, Timestamp('2013-06-07 00:00:00')],\n",
       " [42,\n",
       "  'United Kingdom',\n",
       "  'North Down',\n",
       "  1900.0,\n",
       "  Timestamp('2009-12-15 00:00:00')],\n",
       " [43, 'United States', 'Alaska', 1190.0, Timestamp('2015-01-01 00:00:00')],\n",
       " [44, 'United States', 'Arkansas', 2000.0, Timestamp('2010-06-03 00:00:00')],\n",
       " [45,\n",
       "  'United States',\n",
       "  'Connecticut',\n",
       "  2000.0,\n",
       "  Timestamp('2007-07-08 00:00:00')],\n",
       " [46, 'United States', 'Delaware', 1015.0, Timestamp('2012-08-08 00:00:00')],\n",
       " [47, 'United States', 'Hawaii', 1120.0, Timestamp('2015-04-04 00:00:00')],\n",
       " [48, 'United States', 'Idaho', 1540.0, Timestamp('2012-12-15 00:00:00')],\n",
       " [49, 'United States', 'Iowa', 2000.0, Timestamp('2018-06-03 00:00:00')],\n",
       " [50, 'United States', 'Kansas', 2000.0, Timestamp('2008-03-06 00:00:00')],\n",
       " [51, 'United States', 'Maine', 1295.0, Timestamp('2010-01-01 00:00:00')],\n",
       " [52,\n",
       "  'United States',\n",
       "  'Mississippi',\n",
       "  2000.0,\n",
       "  Timestamp('2009-06-03 00:00:00')],\n",
       " [53, 'United States', 'Montana', 1260.0, Timestamp('2012-06-06 00:00:00')],\n",
       " [54, 'United States', 'Nebraska', 2000.0, Timestamp('2013-06-07 00:00:00')],\n",
       " [55, 'United States', 'Nevada', 2000.0, Timestamp('2009-12-15 00:00:00')],\n",
       " [56,\n",
       "  'United States',\n",
       "  'New Hampshire',\n",
       "  1260.0,\n",
       "  Timestamp('2015-01-01 00:00:00')],\n",
       " [57, 'United States', 'New Mexico', 1645.0, Timestamp('2010-06-03 00:00:00')],\n",
       " [58,\n",
       "  'United States',\n",
       "  'North Dakota',\n",
       "  1330.0,\n",
       "  Timestamp('2007-07-08 00:00:00')],\n",
       " [59, 'United States', 'Oregon', 2000.0, Timestamp('2012-08-08 00:00:00')],\n",
       " [60,\n",
       "  'United States',\n",
       "  'Rhode Island',\n",
       "  1260.0,\n",
       "  Timestamp('2005-04-04 00:00:00')],\n",
       " [61,\n",
       "  'United States',\n",
       "  'South Carolina',\n",
       "  2000.0,\n",
       "  Timestamp('2012-12-15 00:00:00')],\n",
       " [62,\n",
       "  'United States',\n",
       "  'South Dakota',\n",
       "  1120.0,\n",
       "  Timestamp('2018-06-03 00:00:00')],\n",
       " [63, 'United States', 'Utah', 2000.0, Timestamp('2008-03-06 00:00:00')],\n",
       " [64,\n",
       "  'United States',\n",
       "  'Washington DC',\n",
       "  1330.0,\n",
       "  Timestamp('2010-01-01 00:00:00')],\n",
       " [65,\n",
       "  'United States',\n",
       "  'West Virginia',\n",
       "  1785.0,\n",
       "  Timestamp('2012-01-01 00:00:00')],\n",
       " [66, 'United States', 'Wyoming', 840.0, Timestamp('2014-01-01 00:00:00')],\n",
       " [0, 'Online', 'Online', 840.0, Timestamp('2010-01-01 00:00:00')]]"
      ]
     },
     "execution_count": 58,
     "metadata": {},
     "output_type": "execute_result"
    }
   ],
   "source": [
    "# Assuming 'final3' is your DataFrame and you want to convert the 'column_name' to a list\n",
    "lists = final3.values.tolist()\n",
    "lists"
   ]
  },
  {
   "cell_type": "markdown",
   "id": "caf08ddb-ee54-45da-9347-9d9ca3f201bd",
   "metadata": {},
   "source": [
    "CONNECTING MYSQL WITH PYTHON"
   ]
  },
  {
   "cell_type": "code",
   "execution_count": 59,
   "id": "1a5b2272-e04e-4225-97b5-2ab6a84ff268",
   "metadata": {},
   "outputs": [
    {
     "name": "stdout",
     "output_type": "stream",
     "text": [
      "Inserting row: [1, 'Australia', 'Australian Capital Territory', 595.0, Timestamp('2008-01-01 00:00:00')]\n",
      "Inserting row: [2, 'Australia', 'Northern Territory', 665.0, Timestamp('2008-01-12 00:00:00')]\n",
      "Inserting row: [3, 'Australia', 'South Australia', 2000.0, Timestamp('2012-01-07 00:00:00')]\n",
      "Inserting row: [4, 'Australia', 'Tasmania', 2000.0, Timestamp('2010-01-01 00:00:00')]\n",
      "Inserting row: [5, 'Australia', 'Victoria', 2000.0, Timestamp('2015-12-09 00:00:00')]\n",
      "Inserting row: [6, 'Australia', 'Western Australia', 2000.0, Timestamp('2010-01-01 00:00:00')]\n",
      "Inserting row: [7, 'Canada', 'New Brunswick', 1105.0, Timestamp('2007-05-07 00:00:00')]\n",
      "Inserting row: [8, 'Canada', 'Newfoundland and Labrador', 2105.0, Timestamp('2014-07-02 00:00:00')]\n",
      "Inserting row: [9, 'Canada', 'Northwest Territories', 1500.0, Timestamp('2005-03-04 00:00:00')]\n",
      "Inserting row: [10, 'Canada', 'Nunavut', 1210.0, Timestamp('2015-04-04 00:00:00')]\n",
      "Inserting row: [11, 'Canada', 'Yukon', 1210.0, Timestamp('2009-06-03 00:00:00')]\n",
      "Inserting row: [12, 'France', 'Basse-Normandie', 350.0, Timestamp('2012-06-06 00:00:00')]\n",
      "Inserting row: [13, 'France', 'Corse', 245.0, Timestamp('2013-06-07 00:00:00')]\n",
      "Inserting row: [14, 'France', 'Franche-Comté', 350.0, Timestamp('2009-12-15 00:00:00')]\n",
      "Inserting row: [15, 'France', 'La Réunion', 400.0, Timestamp('2015-01-01 00:00:00')]\n",
      "Inserting row: [16, 'France', 'Limousin', 385.0, Timestamp('2010-06-03 00:00:00')]\n",
      "Inserting row: [17, 'France', 'Martinique', 350.0, Timestamp('2007-07-08 00:00:00')]\n",
      "Inserting row: [18, 'France', 'Mayotte', 310.0, Timestamp('2012-08-08 00:00:00')]\n",
      "Inserting row: [19, 'Germany', 'Berlin', 1295.0, Timestamp('2015-04-04 00:00:00')]\n",
      "Inserting row: [20, 'Germany', 'Brandenburg', 1715.0, Timestamp('2012-12-15 00:00:00')]\n",
      "Inserting row: [21, 'Germany', 'Freie Hansestadt Bremen', 560.0, Timestamp('2018-06-03 00:00:00')]\n",
      "Inserting row: [22, 'Germany', 'Freistaat Thüringen', 2000.0, Timestamp('2008-03-06 00:00:00')]\n",
      "Inserting row: [23, 'Germany', 'Hamburg', 1365.0, Timestamp('2010-01-01 00:00:00')]\n",
      "Inserting row: [24, 'Germany', 'Hessen', 1855.0, Timestamp('2012-12-15 00:00:00')]\n",
      "Inserting row: [25, 'Germany', 'Mecklenburg-Vorpommern', 1610.0, Timestamp('2010-01-01 00:00:00')]\n",
      "Inserting row: [26, 'Germany', 'Saarland', 350.0, Timestamp('2019-03-05 00:00:00')]\n",
      "Inserting row: [27, 'Germany', 'Sachsen-Anhalt', 2000.0, Timestamp('2008-08-08 00:00:00')]\n",
      "Inserting row: [28, 'Italy', 'Caltanissetta', 1200.0, Timestamp('2012-12-15 00:00:00')]\n",
      "Inserting row: [29, 'Italy', 'Enna', 1000.0, Timestamp('2008-01-01 00:00:00')]\n",
      "Inserting row: [30, 'Italy', 'Pesaro', 2100.0, Timestamp('2008-01-12 00:00:00')]\n",
      "Inserting row: [31, 'Netherlands', 'Drenthe', 1085.0, Timestamp('2012-01-07 00:00:00')]\n",
      "Inserting row: [32, 'Netherlands', 'Flevoland', 910.0, Timestamp('2010-01-01 00:00:00')]\n",
      "Inserting row: [33, 'Netherlands', 'Friesland', 1540.0, Timestamp('2015-12-09 00:00:00')]\n",
      "Inserting row: [34, 'Netherlands', 'Groningen', 1365.0, Timestamp('2010-01-01 00:00:00')]\n",
      "Inserting row: [35, 'Netherlands', 'Zeeland', 1225.0, Timestamp('2007-05-07 00:00:00')]\n",
      "Inserting row: [36, 'United Kingdom', 'Armagh', 1300.0, Timestamp('2014-07-02 00:00:00')]\n",
      "Inserting row: [37, 'United Kingdom', 'Ayrshire', 2100.0, Timestamp('2005-03-04 00:00:00')]\n",
      "Inserting row: [38, 'United Kingdom', 'Belfast', 1800.0, Timestamp('2015-04-04 00:00:00')]\n",
      "Inserting row: [39, 'United Kingdom', 'Blaenau Gwent', 2100.0, Timestamp('2009-06-03 00:00:00')]\n",
      "Inserting row: [40, 'United Kingdom', 'Dungannon and South Tyrone', 1300.0, Timestamp('2012-06-06 00:00:00')]\n",
      "Inserting row: [41, 'United Kingdom', 'Fermanagh', 2100.0, Timestamp('2013-06-07 00:00:00')]\n",
      "Inserting row: [42, 'United Kingdom', 'North Down', 1900.0, Timestamp('2009-12-15 00:00:00')]\n",
      "Inserting row: [43, 'United States', 'Alaska', 1190.0, Timestamp('2015-01-01 00:00:00')]\n",
      "Inserting row: [44, 'United States', 'Arkansas', 2000.0, Timestamp('2010-06-03 00:00:00')]\n",
      "Inserting row: [45, 'United States', 'Connecticut', 2000.0, Timestamp('2007-07-08 00:00:00')]\n",
      "Inserting row: [46, 'United States', 'Delaware', 1015.0, Timestamp('2012-08-08 00:00:00')]\n",
      "Inserting row: [47, 'United States', 'Hawaii', 1120.0, Timestamp('2015-04-04 00:00:00')]\n",
      "Inserting row: [48, 'United States', 'Idaho', 1540.0, Timestamp('2012-12-15 00:00:00')]\n",
      "Inserting row: [49, 'United States', 'Iowa', 2000.0, Timestamp('2018-06-03 00:00:00')]\n",
      "Inserting row: [50, 'United States', 'Kansas', 2000.0, Timestamp('2008-03-06 00:00:00')]\n",
      "Inserting row: [51, 'United States', 'Maine', 1295.0, Timestamp('2010-01-01 00:00:00')]\n",
      "Inserting row: [52, 'United States', 'Mississippi', 2000.0, Timestamp('2009-06-03 00:00:00')]\n",
      "Inserting row: [53, 'United States', 'Montana', 1260.0, Timestamp('2012-06-06 00:00:00')]\n",
      "Inserting row: [54, 'United States', 'Nebraska', 2000.0, Timestamp('2013-06-07 00:00:00')]\n",
      "Inserting row: [55, 'United States', 'Nevada', 2000.0, Timestamp('2009-12-15 00:00:00')]\n",
      "Inserting row: [56, 'United States', 'New Hampshire', 1260.0, Timestamp('2015-01-01 00:00:00')]\n",
      "Inserting row: [57, 'United States', 'New Mexico', 1645.0, Timestamp('2010-06-03 00:00:00')]\n",
      "Inserting row: [58, 'United States', 'North Dakota', 1330.0, Timestamp('2007-07-08 00:00:00')]\n",
      "Inserting row: [59, 'United States', 'Oregon', 2000.0, Timestamp('2012-08-08 00:00:00')]\n",
      "Inserting row: [60, 'United States', 'Rhode Island', 1260.0, Timestamp('2005-04-04 00:00:00')]\n",
      "Inserting row: [61, 'United States', 'South Carolina', 2000.0, Timestamp('2012-12-15 00:00:00')]\n",
      "Inserting row: [62, 'United States', 'South Dakota', 1120.0, Timestamp('2018-06-03 00:00:00')]\n",
      "Inserting row: [63, 'United States', 'Utah', 2000.0, Timestamp('2008-03-06 00:00:00')]\n",
      "Inserting row: [64, 'United States', 'Washington DC', 1330.0, Timestamp('2010-01-01 00:00:00')]\n",
      "Inserting row: [65, 'United States', 'West Virginia', 1785.0, Timestamp('2012-01-01 00:00:00')]\n",
      "Inserting row: [66, 'United States', 'Wyoming', 840.0, Timestamp('2014-01-01 00:00:00')]\n",
      "Inserting row: [0, 'Online', 'Online', 840.0, Timestamp('2010-01-01 00:00:00')]\n",
      "Data inserted successfully\n"
     ]
    }
   ],
   "source": [
    "import mysql.connector\n",
    "\n",
    "# Connect to MySQL\n",
    "conn = mysql.connector.connect(\n",
    "    host=\"127.0.0.1\",\n",
    "    user=\"root\",\n",
    "    password=\"1234\",\n",
    "    database=\"Sakila\",\n",
    "    port=3306\n",
    ")\n",
    "cursor = conn.cursor()\n",
    "\n",
    "# Define insert query for the Stores table\n",
    "query = \"\"\"\n",
    "INSERT INTO Stores (StoreKey, Country, State, Square_Meters, Open_Date)\n",
    "VALUES (%s, %s, %s, %s, %s);\n",
    "\"\"\"\n",
    "\n",
    "# Adjust column names based on actual DataFrame\n",
    "try:\n",
    "    # Update column names here based on what you found\n",
    "    lists = final3[['StoreKey', 'Country', 'State', 'Square Meters', 'Open Date']].values.tolist()\n",
    "except KeyError as e:\n",
    "    print(f\"KeyError: {e}. Verify the column names in your DataFrame.\")\n",
    "    print(final3.columns)  # Print columns for debugging\n",
    "    raise\n",
    "\n",
    "# Insert data\n",
    "try:\n",
    "    for row in lists:\n",
    "        print(\"Inserting row:\", row)  # Debugging: Print each row to verify\n",
    "        cursor.execute(query, row)\n",
    "    conn.commit()\n",
    "    print(\"Data inserted successfully\")\n",
    "except mysql.connector.Error as err:\n",
    "    print(f\"Error inserting row {row}: {err}\")\n",
    "    conn.rollback()  # Rollback in case of error\n",
    "finally:\n",
    "    cursor.close()\n",
    "    conn.close()\n"
   ]
  }
 ],
 "metadata": {
  "kernelspec": {
   "display_name": "Python 3 (ipykernel)",
   "language": "python",
   "name": "python3"
  },
  "language_info": {
   "codemirror_mode": {
    "name": "ipython",
    "version": 3
   },
   "file_extension": ".py",
   "mimetype": "text/x-python",
   "name": "python",
   "nbconvert_exporter": "python",
   "pygments_lexer": "ipython3",
   "version": "3.12.2"
  }
 },
 "nbformat": 4,
 "nbformat_minor": 5
}
